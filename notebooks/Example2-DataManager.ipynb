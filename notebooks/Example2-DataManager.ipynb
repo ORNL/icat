{
 "cells": [
  {
   "cell_type": "code",
   "execution_count": null,
   "id": "daf24406-4de2-4f32-95e6-ef3c73a3a06e",
   "metadata": {},
   "outputs": [],
   "source": [
    "%load_ext autoreload\n",
    "%autoreload 2"
   ]
  },
  {
   "cell_type": "code",
   "execution_count": null,
   "id": "40edd95c-c9a2-4d19-9508-24edd17db470",
   "metadata": {},
   "outputs": [],
   "source": [
    "import pandas as pd\n",
    "import panel as pn\n",
    "\n",
    "from icat.data import DataManager\n",
    "pn.extension()"
   ]
  },
  {
   "cell_type": "code",
   "execution_count": null,
   "id": "8cd06162-db29-46d6-b1fa-9aef806d815f",
   "metadata": {},
   "outputs": [],
   "source": [
    "from sklearn.datasets import fetch_20newsgroups\n",
    "\n",
    "train = fetch_20newsgroups(subset=\"train\")\n",
    "test = fetch_20newsgroups(subset=\"test\")\n",
    "\n",
    "train_df = pd.DataFrame({\"text\": train[\"data\"]})\n",
    "test_df = pd.DataFrame({\"text\": test[\"data\"]})"
   ]
  },
  {
   "cell_type": "code",
   "execution_count": null,
   "id": "8f530f08-c6e7-4a2f-9987-b67f1c8856dd",
   "metadata": {},
   "outputs": [],
   "source": [
    "data = DataManager(data=train_df[:101], text_col=\"text\")\n",
    "data"
   ]
  },
  {
   "cell_type": "code",
   "execution_count": null,
   "id": "a5331c52-2489-4e9a-aa64-698044afe818",
   "metadata": {},
   "outputs": [],
   "source": [
    "data._set_page_contents(data.table.options)"
   ]
  },
  {
   "cell_type": "code",
   "execution_count": null,
   "id": "38cc07c2-5384-461e-b8f4-8a8fe635b438",
   "metadata": {},
   "outputs": [],
   "source": [
    "data.current_tab = \"Visible\""
   ]
  },
  {
   "cell_type": "code",
   "execution_count": null,
   "id": "ffc65958-2dd9-4b6b-a863-878f26c1886c",
   "metadata": {},
   "outputs": [],
   "source": [
    "data.table.items            fixed_tabs=True,\n",
    "            dense=True,\n",
    "            children=[\n",
    "                v.Tab(children=[\"Visible\"]),\n",
    "                v.Tab(children=[\"Labeled\"]),\n",
    "                v.Tab(children=[\"Interesting\"]),\n",
    "                v.Tab(children=[\"Selected\"]),\n",
    "            ],"
   ]
  },
  {
   "cell_type": "code",
   "execution_count": null,
   "id": "e989d17d-5d8c-418f-81d1-7032aaa51c66",
   "metadata": {},
   "outputs": [],
   "source": [
    "data.active_data.iloc[9]"
   ]
  },
  {
   "cell_type": "code",
   "execution_count": null,
   "id": "05475b0c-04f9-4bfe-8aec-cb5f8ea3ebbb",
   "metadata": {},
   "outputs": [],
   "source": [
    "data.filtered_df.iloc[9]"
   ]
  },
  {
   "cell_type": "code",
   "execution_count": null,
   "id": "53590ced-eb78-4d6c-8417-abbad3a69146",
   "metadata": {},
   "outputs": [],
   "source": [
    "data.selected_indices = [3, 4]\n",
    "data.tabs.value = \"Selected\""
   ]
  },
  {
   "cell_type": "code",
   "execution_count": null,
   "id": "d6eb6077-71f6-4bb4-b3c2-f497ce46e79b",
   "metadata": {},
   "outputs": [],
   "source": [
    "data.change_page(2)"
   ]
  }
 ],
 "metadata": {
  "kernelspec": {
   "display_name": "Python 3 (ipykernel)",
   "language": "python",
   "name": "python3"
  },
  "language_info": {
   "codemirror_mode": {
    "name": "ipython",
    "version": 3
   },
   "file_extension": ".py",
   "mimetype": "text/x-python",
   "name": "python",
   "nbconvert_exporter": "python",
   "pygments_lexer": "ipython3",
   "version": "3.10.6"
  }
 },
 "nbformat": 4,
 "nbformat_minor": 5
}
