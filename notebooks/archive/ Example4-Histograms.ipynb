{
 "cells": [
  {
   "cell_type": "code",
   "execution_count": null,
   "id": "b699db5e-bdfa-46c8-8a28-459a3297734f",
   "metadata": {},
   "outputs": [],
   "source": [
    "%load_ext autoreload\n",
    "%autoreload 2"
   ]
  },
  {
   "cell_type": "code",
   "execution_count": null,
   "id": "d9ec926b-3833-48e3-ae7a-4cb069000305",
   "metadata": {},
   "outputs": [],
   "source": [
    "import pandas as pd\n",
    "import panel as pn\n",
    "\n",
    "from icat.model import Model\n",
    "from icat.anchors import DictionaryAnchor\n",
    "pn.extension('vega')\n",
    "\n",
    "from sklearn.datasets import fetch_20newsgroups\n",
    "\n",
    "train = fetch_20newsgroups(subset=\"train\")\n",
    "test = fetch_20newsgroups(subset=\"test\")\n",
    "\n",
    "train_df = pd.DataFrame({\"text\": train[\"data\"]})\n",
    "test_df = pd.DataFrame({\"text\": test[\"data\"]})\n",
    "\n",
    "model = Model(train_df, 'text')"
   ]
  },
  {
   "cell_type": "code",
   "execution_count": null,
   "id": "ebdc568f-b5e6-4f62-a199-51eecd3e10ba",
   "metadata": {},
   "outputs": [],
   "source": [
    "model.view.histograms"
   ]
  },
  {
   "cell_type": "code",
   "execution_count": null,
   "id": "4b4086f1-1ef8-48c5-9bfb-50f4baa71871",
   "metadata": {},
   "outputs": [],
   "source": [
    "model.anchor_list.add_anchor(DictionaryAnchor(anchor_name=\"news\", keywords=[\"news\"]))\n",
    "\n",
    "indices = model.data.active_data[(model.data.active_data[\"_news\"] > 0) & (model.data.active_data.index.isin(model.data.sample_indices))].index\n",
    "for index in list(indices[0:10]):\n",
    "    model.data.apply_label(index, 1)\n",
    "    \n",
    "model.data.apply_label(model.data.sample_indices[0], 0)"
   ]
  },
  {
   "cell_type": "code",
   "execution_count": null,
   "id": "66770504-3113-448b-8723-0c76f952f1cd",
   "metadata": {},
   "outputs": [],
   "source": [
    "model.view.histograms"
   ]
  },
  {
   "cell_type": "code",
   "execution_count": null,
   "id": "c8e6082b-4a75-4837-9bd4-a833f4189b30",
   "metadata": {},
   "outputs": [],
   "source": [
    "model.view.refresh_data()"
   ]
  },
  {
   "cell_type": "code",
   "execution_count": null,
   "id": "fa3f5251-8029-4a63-8255-8f60501fb9cd",
   "metadata": {},
   "outputs": [],
   "source": [
    "import ipyvuetify as v\n",
    "\n",
    "v.Container(children=[v.RangeSlider(min=0, max=100, step=1, thumb_label=True, style_=\"padding: 0; padding-top: 35px; margin: 0; height: 70px;\")], style_=\"margin: 0; padding: 0;\")"
   ]
  },
  {
   "cell_type": "code",
   "execution_count": null,
   "id": "eb3b1e76-82f9-4d57-8b27-93f9f9034926",
   "metadata": {},
   "outputs": [],
   "source": [
    "\n",
    "v.RangeSlider(min=0, max=100, step=1, thumb_label=True, style_=\"padding: 0; padding-top: 35px; margin: 0; height: 70px;\")"
   ]
  },
  {
   "cell_type": "code",
   "execution_count": null,
   "id": "3ad4beba-bab7-4a7d-bb15-2df33537161d",
   "metadata": {},
   "outputs": [],
   "source": []
  }
 ],
 "metadata": {
  "kernelspec": {
   "display_name": "Python 3 (ipykernel)",
   "language": "python",
   "name": "python3"
  },
  "language_info": {
   "codemirror_mode": {
    "name": "ipython",
    "version": 3
   },
   "file_extension": ".py",
   "mimetype": "text/x-python",
   "name": "python",
   "nbconvert_exporter": "python",
   "pygments_lexer": "ipython3",
   "version": "3.10.6"
  }
 },
 "nbformat": 4,
 "nbformat_minor": 5
}
