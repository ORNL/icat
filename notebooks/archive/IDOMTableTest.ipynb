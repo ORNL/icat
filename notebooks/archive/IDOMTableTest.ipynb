{
 "cells": [
  {
   "cell_type": "code",
   "execution_count": null,
   "id": "fe163977-6b35-4329-911c-089816e5caa7",
   "metadata": {},
   "outputs": [],
   "source": [
    "%load_ext autoreload\n",
    "%autoreload 2"
   ]
  },
  {
   "cell_type": "code",
   "execution_count": null,
   "id": "61718d06-3fb5-4ca1-be03-45056a8cddd4",
   "metadata": {},
   "outputs": [],
   "source": [
    "import ipyvuetify as v\n",
    "import pandas as pd\n",
    "import panel as pn\n",
    "\n",
    "from icat.table import TableContentsVue, TableContentsTemplate, ActualTableDisplay\n",
    "pn.extension()"
   ]
  },
  {
   "cell_type": "code",
   "execution_count": null,
   "id": "e2e5bacd-48ab-4c20-b1bd-450a8bc3006a",
   "metadata": {},
   "outputs": [],
   "source": [
    "a = TableContentsTemplate(\n",
    "    items=[{\"id\": 0, \"text\": \"YO DAWG!\"}, {\"id\": 1, \"text\": \"NO\"}, {\"id\": 5, \"text\": \"<span style='color: red'>NOOOOOOO</span> nvm it's all good fam\"}],\n",
    "    headers=[{\"text\": \"thing1\", \"value\": \"thing1\"}, {\"text\": \"id\", \"value\": \"id\"}, {\"text\": \"Actions\", \"value\": \"actions\", \"width\": \"105px\"}],\n",
    "    total_length=20\n",
    ")\n",
    "a"
   ]
  },
  {
   "cell_type": "code",
   "execution_count": null,
   "id": "c9397df4-59f9-4ed8-b0af-cdcb3ada85db",
   "metadata": {},
   "outputs": [],
   "source": [
    "a.total_length = 5"
   ]
  },
  {
   "cell_type": "code",
   "execution_count": null,
   "id": "df58687c-88bb-4580-81b8-a45710e5a49e",
   "metadata": {},
   "outputs": [],
   "source": [
    "a.change_page(2)"
   ]
  },
  {
   "cell_type": "code",
   "execution_count": null,
   "id": "c4a2a44b-2051-4802-ba6d-47c4f2b82e34",
   "metadata": {},
   "outputs": [],
   "source": [
    "a.options[\"page\"] = 1"
   ]
  },
  {
   "cell_type": "code",
   "execution_count": null,
   "id": "3362928b-6938-498f-b802-0ba0bf436564",
   "metadata": {},
   "outputs": [],
   "source": [
    "a.options"
   ]
  },
  {
   "cell_type": "code",
   "execution_count": null,
   "id": "4560fe63-d517-4477-9e7e-975b26c18820",
   "metadata": {},
   "outputs": [],
   "source": [
    "a.items = [{\"id\": i, \"text\": \"bbbbbbbb \"*30} for i in range(20)]"
   ]
  },
  {
   "cell_type": "code",
   "execution_count": null,
   "id": "ca50c146-a232-4a12-8985-48b9d30bbbb3",
   "metadata": {},
   "outputs": [],
   "source": [
    "v.Container(children=[a])"
   ]
  },
  {
   "cell_type": "code",
   "execution_count": null,
   "id": "75735cc3-fea0-46bd-8ab8-3defe837d681",
   "metadata": {},
   "outputs": [],
   "source": [
    "t = TableContentsVue()"
   ]
  },
  {
   "cell_type": "code",
   "execution_count": null,
   "id": "43a309cc-1579-4385-bdeb-422a47e9538f",
   "metadata": {},
   "outputs": [],
   "source": [
    "t.render()"
   ]
  },
  {
   "cell_type": "code",
   "execution_count": null,
   "id": "9c6a0d87-e849-4aff-a92a-c24ce014c9d5",
   "metadata": {},
   "outputs": [],
   "source": [
    "t.tabs.v_model"
   ]
  },
  {
   "cell_type": "code",
   "execution_count": null,
   "id": "22a5f5a9-8adb-4313-ab41-f38f90f20482",
   "metadata": {},
   "outputs": [],
   "source": [
    "t.tabs.v_model = 2"
   ]
  }
 ],
 "metadata": {
  "kernelspec": {
   "display_name": "Python 3 (ipykernel)",
   "language": "python",
   "name": "python3"
  },
  "language_info": {
   "codemirror_mode": {
    "name": "ipython",
    "version": 3
   },
   "file_extension": ".py",
   "mimetype": "text/x-python",
   "name": "python",
   "nbconvert_exporter": "python",
   "pygments_lexer": "ipython3",
   "version": "3.10.6"
  }
 },
 "nbformat": 4,
 "nbformat_minor": 5
}
