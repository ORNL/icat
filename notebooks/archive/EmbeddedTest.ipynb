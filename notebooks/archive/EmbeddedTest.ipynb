{
 "cells": [
  {
   "cell_type": "code",
   "execution_count": null,
   "id": "b29a6e18-b2d5-43cd-b559-11a400501ee1",
   "metadata": {},
   "outputs": [],
   "source": [
    "import ipyvuetify as v\n",
    "import ipywidgets as widgets\n",
    "import traitlets\n",
    "\n",
    "slider1 = widgets.IntSlider(description='Slider 1', value=20)\n",
    "slider2 = v.Slider(label='Slider 2', v_model=8)\n",
    "\n",
    "class MyComponent(v.VuetifyTemplate):\n",
    "\n",
    "    items = traitlets.List().tag(sync=True, **widgets.widget_serialization)\n",
    "    single_widget = traitlets.Any().tag(sync=True, **widgets.widget_serialization)\n",
    "\n",
    "    @traitlets.default('template')\n",
    "    def _template(self):\n",
    "        return '''\n",
    "        <template>\n",
    "            <div>\n",
    "                <div v-for=\"item in items\" :key=\"item.title + item.content\">\n",
    "                    {{ item.title }}: <jupyter-widget :widget=\"item.content\" />\n",
    "                </div>\n",
    "                Single widget: <jupyter-widget :widget=\"single_widget\" />\n",
    "            </div>\n",
    "        </template>\n",
    "        '''\n",
    "\n",
    "MyComponent(\n",
    "    items=[{\n",
    "        'title': 'Title 1',\n",
    "        'content': slider1\n",
    "    }, {\n",
    "        'title': 'Title 2',\n",
    "        'content': slider2\n",
    "    }],\n",
    "    single_widget=widgets.IntSlider(description='Single slider', value=40))\n",
    "\n"
   ]
  },
  {
   "cell_type": "code",
   "execution_count": null,
   "id": "d49804cf-32ac-4ea7-b514-8caad409106d",
   "metadata": {},
   "outputs": [],
   "source": [
    "import panel as pn\n",
    "pn.extension()"
   ]
  },
  {
   "cell_type": "code",
   "execution_count": null,
   "id": "dba570fd-d8b7-41c3-ab44-ca18baff1956",
   "metadata": {},
   "outputs": [],
   "source": [
    "tabs = pn.Tabs(\n",
    "    ('red', pn.Spacer(background='red', width=100, height=100)),\n",
    "    ('blue', pn.Spacer(background='blue', width=100, height=100)),\n",
    "    ('green', pn.Spacer(background='green', width=100, height=100)),\n",
    "    closable=True\n",
    ")\n",
    "\n",
    "tabs"
   ]
  },
  {
   "cell_type": "code",
   "execution_count": null,
   "id": "92bd2aae-5835-4ef3-a6ce-e51dae9f95d3",
   "metadata": {},
   "outputs": [],
   "source": [
    "pn.ipywidget(tabs)"
   ]
  },
  {
   "cell_type": "code",
   "execution_count": null,
   "id": "11ac41c1-6e18-4af1-9f2b-780eb89c8b33",
   "metadata": {},
   "outputs": [],
   "source": []
  }
 ],
 "metadata": {
  "kernelspec": {
   "display_name": "Python 3 (ipykernel)",
   "language": "python",
   "name": "python3"
  },
  "language_info": {
   "codemirror_mode": {
    "name": "ipython",
    "version": 3
   },
   "file_extension": ".py",
   "mimetype": "text/x-python",
   "name": "python",
   "nbconvert_exporter": "python",
   "pygments_lexer": "ipython3",
   "version": "3.10.6"
  }
 },
 "nbformat": 4,
 "nbformat_minor": 5
}
