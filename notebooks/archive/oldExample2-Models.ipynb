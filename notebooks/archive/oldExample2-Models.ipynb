{
 "cells": [
  {
   "cell_type": "code",
   "execution_count": null,
   "id": "398ee87c-c433-4caa-9d61-4a1af78ef449",
   "metadata": {},
   "outputs": [],
   "source": [
    "%load_ext autoreload\n",
    "%autoreload 2"
   ]
  },
  {
   "cell_type": "code",
   "execution_count": null,
   "id": "1cd1859a-b34a-46ab-9f1b-777268ff4a12",
   "metadata": {},
   "outputs": [],
   "source": [
    "from icat.model import Model \n",
    "from icat.anchors import DictionaryAnchor, TFIDFAnchor\n",
    "import pandas as pd"
   ]
  },
  {
   "cell_type": "code",
   "execution_count": null,
   "id": "86d66be4",
   "metadata": {},
   "outputs": [],
   "source": [
    "from datasets import load_dataset\n",
    "\n",
    "# getting newsgroups data from huggingface\n",
    "train_data = pd.DataFrame(data=load_dataset(\"SetFit/20_newsgroups\", split=\"train\"))\n",
    "test_data = pd.DataFrame(data=load_dataset(\"SetFit/20_newsgroups\", split=\"test\"))"
   ]
  },
  {
   "cell_type": "code",
   "execution_count": null,
   "id": "53229316-06d7-41d7-bbbf-deb03b45f198",
   "metadata": {},
   "outputs": [],
   "source": [
    "# 2, 25, 61, 342, 11310, 320\n",
    "# 1, 3, 4, 11309\n",
    "#train_data[train_data.label_text == \"comp.windows.x\"].index[10:20]\n",
    "train_data[\"int_label\"] = -1\n",
    "train_data.loc[[2, 25, 61, 342, 11311, 320], \"int_label\"] = 1\n",
    "train_data.loc[[1, 3, 4, 11309], \"int_label\"] = 0"
   ]
  },
  {
   "cell_type": "code",
   "execution_count": null,
   "id": "325e90c8",
   "metadata": {},
   "outputs": [],
   "source": [
    "train_data"
   ]
  },
  {
   "cell_type": "code",
   "execution_count": null,
   "id": "ce6298ca",
   "metadata": {},
   "outputs": [],
   "source": [
    "# Model setup with a simple anchor\n",
    "model = Model(\"20_newsgroup\", exploration_data=train_data, label_col=\"int_label\")\n",
    "\n",
    "computer_keywords = [\n",
    "    \"Windows\",\n",
    "    \"UNIX\",\n",
    "    \"OS\",\n",
    "    \"GPU\",\n",
    "    \"Mac\",\n",
    "    \"Linux\"\n",
    "]\n",
    "cpu_anchor = DictionaryAnchor(name = \"computers\", keywords = computer_keywords, text_col=\"text\")\n",
    "model.anchors.append(cpu_anchor)"
   ]
  },
  {
   "cell_type": "code",
   "execution_count": null,
   "id": "f2b235c8",
   "metadata": {},
   "outputs": [],
   "source": [
    "model.fit()\n",
    "results_df = model.predict(test_data)"
   ]
  },
  {
   "cell_type": "code",
   "execution_count": null,
   "id": "5e393cbd",
   "metadata": {},
   "outputs": [],
   "source": [
    "results_df\n",
    "# TODO: the column results from computers look odd and pred seems to be between 8 and 18"
   ]
  },
  {
   "cell_type": "code",
   "execution_count": null,
   "id": "23fdb03d-a0dd-4caa-97c9-0492d108beb1",
   "metadata": {},
   "outputs": [],
   "source": [
    "train_data"
   ]
  },
  {
   "cell_type": "code",
   "execution_count": null,
   "id": "5acd4c50-3265-4712-a1d9-8e75d6c53901",
   "metadata": {},
   "outputs": [],
   "source": [
    "model.training_data"
   ]
  },
  {
   "cell_type": "code",
   "execution_count": null,
   "id": "bc9aad0e-dba2-446e-b17a-989a2a6018d9",
   "metadata": {},
   "outputs": [],
   "source": [
    "hex(id(model.training_data))"
   ]
  },
  {
   "cell_type": "code",
   "execution_count": null,
   "id": "c618ca28-1f64-4299-80f4-5e523d741885",
   "metadata": {},
   "outputs": [],
   "source": [
    "hex(id(train_data))"
   ]
  },
  {
   "cell_type": "code",
   "execution_count": null,
   "id": "355229c6-67dd-4c44-8c95-687505ea534d",
   "metadata": {},
   "outputs": [],
   "source": []
  }
 ],
 "metadata": {
  "kernelspec": {
   "display_name": "Python 3 (ipykernel)",
   "language": "python",
   "name": "python3"
  },
  "language_info": {
   "codemirror_mode": {
    "name": "ipython",
    "version": 3
   },
   "file_extension": ".py",
   "mimetype": "text/x-python",
   "name": "python",
   "nbconvert_exporter": "python",
   "pygments_lexer": "ipython3",
   "version": "3.10.12"
  },
  "vscode": {
   "interpreter": {
    "hash": "cf8761a7925ac6624397875eabfa5f6695ba72d85fce9d161bc703f79f255e51"
   }
  }
 },
 "nbformat": 4,
 "nbformat_minor": 5
}
