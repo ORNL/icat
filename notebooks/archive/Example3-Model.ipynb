{
 "cells": [
  {
   "cell_type": "code",
   "execution_count": null,
   "id": "955f118f-fa15-4e3e-9185-7ba33d916963",
   "metadata": {
    "tags": []
   },
   "outputs": [],
   "source": [
    "%load_ext autoreload\n",
    "%autoreload 2"
   ]
  },
  {
   "cell_type": "code",
   "execution_count": null,
   "id": "5b045a67-5947-41a4-a13e-8305a227b669",
   "metadata": {
    "tags": []
   },
   "outputs": [],
   "source": [
    "import pandas as pd\n",
    "import panel as pn\n",
    "\n",
    "from icat.model import Model\n",
    "from icat.anchors import DictionaryAnchor\n",
    "import icat\n",
    "\n",
    "icat.initialize(offline=True)"
   ]
  },
  {
   "cell_type": "code",
   "execution_count": null,
   "id": "eca62f4d-86a0-423e-9a62-dbb8e43d4bd1",
   "metadata": {
    "tags": []
   },
   "outputs": [],
   "source": [
    "from sklearn.datasets import fetch_20newsgroups\n",
    "\n",
    "train = fetch_20newsgroups(subset=\"train\")\n",
    "test = fetch_20newsgroups(subset=\"test\")\n",
    "\n",
    "train_df = pd.DataFrame({\"text\": train[\"data\"]})\n",
    "test_df = pd.DataFrame({\"text\": test[\"data\"]})"
   ]
  },
  {
   "cell_type": "code",
   "execution_count": null,
   "id": "0bfbebe9-85b8-4c52-88c5-4339fef86ba7",
   "metadata": {
    "tags": []
   },
   "outputs": [],
   "source": [
    "train.keys()"
   ]
  },
  {
   "cell_type": "code",
   "execution_count": null,
   "id": "8b47b0ed-3f6e-4f03-ae6b-c0c6e2dfb1b2",
   "metadata": {
    "tags": []
   },
   "outputs": [],
   "source": [
    "model = Model(train_df, 'text')"
   ]
  },
  {
   "cell_type": "code",
   "execution_count": null,
   "id": "6b7022fe-773d-4712-a3d3-14fc8a932ab2",
   "metadata": {
    "tags": []
   },
   "outputs": [],
   "source": [
    "model.view"
   ]
  },
  {
   "cell_type": "code",
   "execution_count": null,
   "id": "c46afc12-0d4c-4fe7-af4e-9822b4c8d4fe",
   "metadata": {
    "tags": []
   },
   "outputs": [],
   "source": [
    "model.anchor_list.add_anchor_type(icat.DictionaryAnchor)\n",
    "model.anchor_list.add_anchor_type(icat.TFIDFAnchor, color=\"#FF00FF\")"
   ]
  },
  {
   "cell_type": "code",
   "execution_count": null,
   "id": "96541ff9-4f5c-4d89-9649-d7631dff968f",
   "metadata": {
    "tags": []
   },
   "outputs": [],
   "source": [
    "model.anchor_list._populate_anchor_types_col()\n",
    "model.anchor_list._populate_example_anchor_types_dropdown()"
   ]
  },
  {
   "cell_type": "code",
   "execution_count": null,
   "id": "b237b28e-adfb-40c6-8c57-cde162bd61b0",
   "metadata": {
    "tags": []
   },
   "outputs": [],
   "source": [
    "model.anchor_list.table.expanded = []\n"
   ]
  },
  {
   "cell_type": "code",
   "execution_count": null,
   "id": "1c43f18a-92f8-4b6c-aa9b-c2f576da1702",
   "metadata": {
    "tags": []
   },
   "outputs": [],
   "source": [
    "model.anchor_list.possible_anchor_types"
   ]
  },
  {
   "cell_type": "code",
   "execution_count": null,
   "id": "3463693b-40ee-43a5-be84-91cc13d90ba9",
   "metadata": {
    "tags": []
   },
   "outputs": [],
   "source": [
    "from icat.table import TableContentsTemplate"
   ]
  },
  {
   "cell_type": "code",
   "execution_count": null,
   "id": "6aeff677-c3cc-4dda-a1ec-80d676681957",
   "metadata": {
    "tags": []
   },
   "outputs": [],
   "source": [
    "TableContentsTemplate()"
   ]
  },
  {
   "cell_type": "code",
   "execution_count": null,
   "id": "aee0b807-acd3-4771-b8bd-1d7e00613ba2",
   "metadata": {
    "tags": []
   },
   "outputs": [],
   "source": [
    "import ipyvuetify as v\n",
    "\n",
    "pn.Row(v.TextField(label=\"hiello\"))"
   ]
  },
  {
   "cell_type": "code",
   "execution_count": null,
   "id": "f0d0a404-aced-4f12-8650-0099a9d0e629",
   "metadata": {
    "tags": []
   },
   "outputs": [],
   "source": [
    "v.TextField(label=\"hiello\")"
   ]
  },
  {
   "cell_type": "code",
   "execution_count": null,
   "id": "c5002157-64d9-4643-a2bd-a1b14e402712",
   "metadata": {
    "tags": []
   },
   "outputs": [],
   "source": [
    "model.data.filtered_df.sort_index(ascending=False)"
   ]
  },
  {
   "cell_type": "code",
   "execution_count": null,
   "id": "c910e7a2-661c-420d-96df-2f2ff7bcacb2",
   "metadata": {
    "tags": []
   },
   "outputs": [],
   "source": [
    "model.data.table.options"
   ]
  },
  {
   "cell_type": "code",
   "execution_count": null,
   "id": "39607760-05a0-4e34-8a8d-dfd6367638be",
   "metadata": {
    "tags": []
   },
   "outputs": [],
   "source": [
    "model.save(\"testingmodel\")"
   ]
  },
  {
   "cell_type": "code",
   "execution_count": null,
   "id": "bb3d82d6-a2db-438e-a308-c8f533f514a2",
   "metadata": {
    "tags": []
   },
   "outputs": [],
   "source": [
    "model.load(\"testingmodel\")"
   ]
  },
  {
   "cell_type": "code",
   "execution_count": null,
   "id": "a58b2ecf-5ffb-4256-a0fa-38b03a3f068c",
   "metadata": {
    "tags": []
   },
   "outputs": [],
   "source": [
    "model.data.active_data"
   ]
  },
  {
   "cell_type": "code",
   "execution_count": null,
   "id": "2c5fd3e0-0915-408a-a1bd-d4fd7412a014",
   "metadata": {
    "tags": []
   },
   "outputs": [],
   "source": [
    "model.anchor_list.save(\"notebooks/testdataaa/anchorlist\")"
   ]
  },
  {
   "cell_type": "code",
   "execution_count": null,
   "id": "5bfdc573-f8dc-43dc-87a6-91d296145bb5",
   "metadata": {
    "tags": []
   },
   "outputs": [],
   "source": [
    "model.anchor_list.load(\"notebooks/testdataaa/anchorlist\")"
   ]
  },
  {
   "cell_type": "code",
   "execution_count": null,
   "id": "b463c345-041d-4e36-ab2b-2c393920ecd4",
   "metadata": {
    "tags": []
   },
   "outputs": [],
   "source": [
    "model.anchor_list.table._set_processing(\"DictionaryAnchor00228\", True)\n"
   ]
  },
  {
   "cell_type": "code",
   "execution_count": null,
   "id": "8968dab3-1931-4eb7-8a5c-8280b93ddbcb",
   "metadata": {
    "tags": []
   },
   "outputs": [],
   "source": [
    "model.anchor_list.table.items"
   ]
  },
  {
   "cell_type": "code",
   "execution_count": null,
   "id": "6ea71f38-1635-4981-8925-646a56e2d59e",
   "metadata": {
    "tags": []
   },
   "outputs": [],
   "source": [
    "model.anchor_list.anchors[0]"
   ]
  },
  {
   "cell_type": "code",
   "execution_count": null,
   "id": "36f6b4e7-47de-4793-9933-6d56974d61dc",
   "metadata": {
    "tags": []
   },
   "outputs": [],
   "source": [
    "model.anchor_list.anchors[0].widget.children"
   ]
  },
  {
   "cell_type": "code",
   "execution_count": null,
   "id": "dc923505-40eb-4db5-8c8f-3576612e0498",
   "metadata": {
    "tags": []
   },
   "outputs": [],
   "source": [
    "model.data.update_trigger"
   ]
  },
  {
   "cell_type": "code",
   "execution_count": null,
   "id": "05368398-8738-43f9-b97e-88a0e4f4d9e7",
   "metadata": {
    "tags": []
   },
   "outputs": [],
   "source": [
    "model.data.width"
   ]
  },
  {
   "cell_type": "code",
   "execution_count": null,
   "id": "5cd15568-1e86-4e5f-815f-7b099f212085",
   "metadata": {
    "tags": []
   },
   "outputs": [],
   "source": [
    "model.data.data_tabs.v_model"
   ]
  },
  {
   "cell_type": "code",
   "execution_count": null,
   "id": "a50ef6c6-f224-4b15-9c6b-6010bf75dae5",
   "metadata": {},
   "outputs": [],
   "source": [
    "model.view.anchorviz.anchors"
   ]
  },
  {
   "cell_type": "code",
   "execution_count": null,
   "id": "6a66b148-82b7-408e-935a-478e2203b9b7",
   "metadata": {},
   "outputs": [],
   "source": [
    "model.anchor_list.anchors"
   ]
  },
  {
   "cell_type": "code",
   "execution_count": null,
   "id": "87f02295-64cc-42fd-81e8-d904c71ae384",
   "metadata": {},
   "outputs": [],
   "source": [
    "model.anchor_list.add_anchor(DictionaryAnchor(anchor_name=\"news\", keywords=[\"news\"]))\n",
    "# model.view.anchorviz.modify_anchor(0, \"theta\", 0.0)\n",
    "\n",
    "indices = model.data.active_data[(model.data.active_data[\"_news\"] > 0) & (model.data.active_data.index.isin(model.data.sample_indices))].index\n",
    "for index in list(indices[0:10]):\n",
    "    model.data.apply_label(index, 1)\n",
    "    \n",
    "model.data.apply_label(model.data.sample_indices[0], 0)"
   ]
  },
  {
   "cell_type": "code",
   "execution_count": null,
   "id": "da30b1b2-2551-450d-ba61-0d04f79e722b",
   "metadata": {},
   "outputs": [],
   "source": [
    "model.anchor_list.add_anchor(DictionaryAnchor(anchor_name=\"fake news\", keywords=[\"news\"], weight=2.0))"
   ]
  },
  {
   "cell_type": "code",
   "execution_count": null,
   "id": "2b866c38-008b-4373-9bb1-5065d7f5ff4c",
   "metadata": {},
   "outputs": [],
   "source": [
    "model.anchor_list.add_anchor(DictionaryAnchor(anchor_name=\"gun\", keywords=[\"gun\"]))\n",
    "indices = model.data.active_data[(model.data.active_data[\"_gun\"] > 0) & (model.data.active_data.index.isin(model.data.sample_indices))].index\n",
    "model.data.apply_label(indices[0], 0)"
   ]
  },
  {
   "cell_type": "code",
   "execution_count": null,
   "id": "acca89c0-2cc8-4ba6-8322-9ad242e3c5fe",
   "metadata": {},
   "outputs": [],
   "source": [
    "\n",
    "model.view.histograms.hist_global.layout.object = model.view.histograms.hist_global.get_vega_graph()"
   ]
  },
  {
   "cell_type": "code",
   "execution_count": null,
   "id": "a4241bb4-1fb1-4cad-a82f-23acef31fd13",
   "metadata": {},
   "outputs": [],
   "source": [
    "model.data.active_data.loc[model.data.sample_indices, [model.data.prediction_col, model.data.label_col]]"
   ]
  },
  {
   "cell_type": "code",
   "execution_count": null,
   "id": "c5fffd41-8328-4ba6-b874-1d650e4b5d1c",
   "metadata": {},
   "outputs": [],
   "source": [
    "model.view.histograms.hist_global"
   ]
  },
  {
   "cell_type": "code",
   "execution_count": null,
   "id": "14c748f0-b188-43c9-b703-9c7e9d211b73",
   "metadata": {},
   "outputs": [],
   "source": [
    "model.view.histograms.hist_global.set_data(model.data.active_data.loc[0:10, [\"_pred\", \"_label\"]])"
   ]
  },
  {
   "cell_type": "code",
   "execution_count": null,
   "id": "4f743e37-7af8-46fa-b246-a8cc3d6ec981",
   "metadata": {},
   "outputs": [],
   "source": [
    "model.data.active_data"
   ]
  },
  {
   "cell_type": "code",
   "execution_count": null,
   "id": "77080bdd-9461-4348-900a-c8c3287c6e13",
   "metadata": {},
   "outputs": [],
   "source": [
    "# model.data.active_data.iloc[:10].to_dict(orient='record')\n",
    "import numpy as np\n",
    "np.linspace(0.0, 1.0, 51)"
   ]
  },
  {
   "cell_type": "code",
   "execution_count": null,
   "id": "d2fb6845-e51a-4037-83b7-d1f80cc2befe",
   "metadata": {},
   "outputs": [],
   "source": [
    "from functools import partial\n",
    "# how to manually bin data\n",
    "df = model.data.active_data[[\"_pred\", \"_label\"]]\n",
    "bins = [0, .1, .2, .3, .4, .5, .6, .7, .8, .9, 1.0]  # TODO: make 50 bins instead\n",
    "labels = bins[:-1]\n",
    "hist_df = pd.DataFrame({\"count\": pd.cut(df._pred, bins=bins, labels=labels).value_counts()})\n",
    "hist_df[\"bin\"] = hist_df.index\n",
    "hist_df[\"bin_end\"] = hist_df[\"bin\"].astype(float) + .1\n",
    "hist_df[\"bin_end\"] = hist_df[\"bin_end\"].apply(round, ndigits=2)\n",
    "hist_df.to_dict(orient='records')\n",
    "# df._pred.cut(bins)"
   ]
  },
  {
   "cell_type": "code",
   "execution_count": null,
   "id": "29118af3-10a4-4533-98d0-2846dc33de2c",
   "metadata": {},
   "outputs": [],
   "source": [
    "#, bin=alt.Bin(maxbins=50))  \\\n",
    "import altair as alt\n",
    "chart = alt.Chart(hist_df) \\\n",
    "    .mark_bar(align='left') \\\n",
    "    .encode(\n",
    "        x=alt.X(\"bin:Q\", title=\"\", bin='binned', scale=alt.Scale(domain=[0, 1]), axis=alt.Axis(labels=True, labelColor=\"white\", domainColor=\"white\", gridColor=\"#444\")),\n",
    "        x2=\"bin_end:Q\",\n",
    "        y=alt.Y('count:Q', title=\"\", axis=alt.Axis(labels=False, domainColor=\"white\", gridColor=\"#444\")),\n",
    "        color=alt.condition(\"datum.bin >= 0.5\", if_true={\"value\": \"#2196F3\"}, if_false={\"value\": \"#FB8C00\"}),\n",
    "    ) \\\n",
    "    .configure(background=\"transparent\") \\\n",
    "    .properties(width='container', height=150)\n",
    "\n",
    "view = pn.panel(chart)\n",
    "view"
   ]
  },
  {
   "cell_type": "code",
   "execution_count": null,
   "id": "8e861eec-502d-4a64-b74e-8ceb6858b250",
   "metadata": {},
   "outputs": [],
   "source": [
    "chart = alt.Chart(model.data.active_data[[\"_pred\", \"_label\"]].iloc[:10]) \\\n",
    "    .transform_bin('pred_binned', field='_pred') \\\n",
    "    .mark_bar(align='left') \\\n",
    "    .encode(\n",
    "        x=alt.X(\"pred_binned:Q\", title=\"\", scale=alt.Scale(domain=[0, 1]), axis=alt.Axis(labels=True, labelColor=\"white\", domainColor=\"white\", gridColor=\"#444\")),\n",
    "        x2=\"pred_binned_end\",\n",
    "        y=alt.Y('count()', title=\"\", axis=alt.Axis(labels=False, domainColor=\"white\", gridColor=\"#444\")),\n",
    "        color=alt.condition(\"datum.pred_binned >= 0.5\", if_true={\"value\": \"#2196F3\"}, if_false={\"value\": \"#FB8C00\"}),\n",
    "    ) \\\n",
    "    .configure(background=\"transparent\") \\\n",
    "    .properties(width='container', height=150)\n",
    "\n",
    "view = pn.panel(chart)\n",
    "# view"
   ]
  },
  {
   "cell_type": "code",
   "execution_count": null,
   "id": "6aedd88f-f51d-466a-a313-ef815d6e0543",
   "metadata": {},
   "outputs": [],
   "source": [
    "view"
   ]
  },
  {
   "cell_type": "code",
   "execution_count": null,
   "id": "3226bdfd-2ff3-4894-8ae6-e3ea40c4d34f",
   "metadata": {},
   "outputs": [],
   "source": []
  },
  {
   "cell_type": "code",
   "execution_count": null,
   "id": "ac8ac37c-917e-45af-ada0-fea9e86e7596",
   "metadata": {},
   "outputs": [],
   "source": [
    "view.object = alt.Chart(model.data.active_data[[\"_pred\", \"_label\"]].iloc[:5000]) \\\n",
    "    .mark_bar() \\\n",
    "    .encode(\n",
    "        alt.X(\"_pred\", bin=True),\n",
    "        y='count()'\n",
    "    )"
   ]
  },
  {
   "cell_type": "code",
   "execution_count": null,
   "id": "69ba3a0b-fce9-4744-89a6-02f8d5c80d49",
   "metadata": {},
   "outputs": [],
   "source": []
  },
  {
   "cell_type": "code",
   "execution_count": null,
   "id": "248a70c7-92f4-4084-9296-1658b49e6522",
   "metadata": {},
   "outputs": [],
   "source": [
    "from icat.histogram import Histogram\n",
    "\n",
    "h = Histogram(\"_pred\", width=400)\n",
    "pn.Row(h)"
   ]
  },
  {
   "cell_type": "code",
   "execution_count": null,
   "id": "e73f0ff6-3c12-4129-acfe-a8224be04180",
   "metadata": {},
   "outputs": [],
   "source": [
    "h.set_data(model.data.active_data[[\"_pred\", \"_label\"]].iloc[:500])"
   ]
  },
  {
   "cell_type": "code",
   "execution_count": null,
   "id": "6d89f4b3-4418-4533-9a17-81b7907b7a45",
   "metadata": {},
   "outputs": [],
   "source": [
    "import altair as alt\n",
    "chart = alt.Chart(hist_df) \\\n",
    "    .mark_bar(align='left') \\\n",
    "    .encode(\n",
    "        x=alt.X(\"bin:Q\", title=\"\", bin='binned', scale=alt.Scale(domain=[0, 1]), axis=alt.Axis(labels=True, labelColor=\"white\", domainColor=\"white\", gridColor=\"#444\")),\n",
    "        x2=\"bin_end:Q\",\n",
    "        y=alt.Y('count:Q', title=\"\", axis=alt.Axis(labels=False, domainColor=\"white\", gridColor=\"#444\")),\n",
    "        color=alt.condition(\"datum.bin >= 0.5\", if_true={\"value\": \"#2196F3\"}, if_false={\"value\": \"#FB8C00\"}),\n",
    "    ) \\\n",
    "    .configure(background=\"transparent\") \\\n",
    "    .properties(width='container', height=150)\n",
    "\n",
    "view = pn.panel(chart)\n",
    "view"
   ]
  },
  {
   "cell_type": "code",
   "execution_count": null,
   "id": "3c85dfc2-bf20-4c3c-a4ce-45f8048ee859",
   "metadata": {},
   "outputs": [],
   "source": [
    "h.layout.param.trigger(\"object\")"
   ]
  },
  {
   "cell_type": "code",
   "execution_count": null,
   "id": "c4f71845-d150-491b-94e9-e871249f08f0",
   "metadata": {},
   "outputs": [],
   "source": [
    "h.layout.object = h.get_vega_graph()"
   ]
  },
  {
   "cell_type": "code",
   "execution_count": null,
   "id": "42eb9230-5da2-4562-843a-2ffde71b514c",
   "metadata": {},
   "outputs": [],
   "source": [
    "h.data = model.data.active_data[[\"_pred\", \"_label\"]].iloc[:10].to_dict(orient=\"record\")"
   ]
  },
  {
   "cell_type": "code",
   "execution_count": null,
   "id": "0e9c915b-9838-471b-b656-935870913037",
   "metadata": {},
   "outputs": [],
   "source": [
    "h.update_vega()"
   ]
  },
  {
   "cell_type": "code",
   "execution_count": null,
   "id": "34801f7b-4ea5-4a67-87b1-658fbaf88acf",
   "metadata": {},
   "outputs": [],
   "source": [
    "h.data"
   ]
  },
  {
   "cell_type": "markdown",
   "id": "d5719086-b621-4dc4-a267-4f5692df1f68",
   "metadata": {},
   "source": [
    "---"
   ]
  },
  {
   "cell_type": "code",
   "execution_count": null,
   "id": "709abc7c-8a00-4869-85e2-f41e7be4b58d",
   "metadata": {},
   "outputs": [],
   "source": [
    "lite = {\n",
    "    \"$schema\": \"https://vega.github.io/schema/vega-lite/v5.json\",\n",
    "    \"usermeta\": {\"embedOptions\": {\"renderer\": \"svg\"}},\n",
    "    \"background\": {\n",
    "        \"fill\":  \"transparent\",\n",
    "    },\n",
    "    \"width\": 400,\n",
    "    \"height\": 100,\n",
    "    \"data\":   {\n",
    "        \"name\": \"primary\",\n",
    "        # \"values\": model.data.active_data[[\"_pred\", \"_label\"]].iloc[:10].to_dict(orient=\"record\"),\n",
    "        \"values\": model.data.active_data[[\"_pred\", \"_label\"]].to_dict(orient=\"record\"),\n",
    "    },\n",
    "    \"transform\": [\n",
    "        {\n",
    "            \"bin\": {\"maxbins\": 50, \"extent\": [0.0, 1.0]},\n",
    "            \"field\": \"_pred\",\n",
    "            \"as\": \"pred_binned\",\n",
    "        },\n",
    "    ],\n",
    "    \"mark\": \"bar\",\n",
    "    \"encoding\": {\n",
    "        \"x\": {\n",
    "            \"field\": \"pred_binned\",\n",
    "            \"bin\": {\n",
    "                \"binned\": True,\n",
    "                # \"step\": 0.02,\n",
    "                \"extent\": [0.0, 1.0],\n",
    "            },\n",
    "            \"extent\": [0.0, 1.0],\n",
    "            \"title\": \"\",\n",
    "            \"scale\": {\n",
    "                \"domain\": [0.0, 1.0],\n",
    "            },\n",
    "        },\n",
    "        \"x2\": {\"field\": \"pred_binned_end\"},\n",
    "        \"y\": {\n",
    "            \"aggregate\": \"count\",\n",
    "            \"title\": \"\",\n",
    "            \"axis\": {\n",
    "                \"labels\": False,\n",
    "            }\n",
    "        },\n",
    "        \"color\": {\n",
    "            \"field\": \"pred_binned\",\n",
    "            \"type\": \"nominal\",\n",
    "            \"condition\": [\n",
    "                {\"test\": \"datum.pred_binned >= 0.5\", \"value\": \"#2196F3\"},\n",
    "                {\"test\": \"datum.pred_binned < 0.5\", \"value\": \"#FB8C00\"},\n",
    "            ],\n",
    "        },\n",
    "    },\n",
    "    \"config\": { \"legend\": { \"disable\": True } },\n",
    "}\n",
    "\n",
    "vgl_pane = pn.panel(lite, theme='dark')\n",
    "vgl_pane"
   ]
  },
  {
   "cell_type": "code",
   "execution_count": null,
   "id": "bbff83cf-0cbb-4c59-a789-e21cc3339321",
   "metadata": {},
   "outputs": [],
   "source": [
    "vgl_pane.object = {}\n",
    "type(vgl_pane)"
   ]
  },
  {
   "cell_type": "code",
   "execution_count": null,
   "id": "51458014-aaab-44a6-a7ab-0b55c67a9680",
   "metadata": {},
   "outputs": [],
   "source": [
    "vgl_pane.debug"
   ]
  },
  {
   "cell_type": "code",
   "execution_count": null,
   "id": "21328b91-c34c-490a-a89d-d64f82aac2e1",
   "metadata": {},
   "outputs": [],
   "source": [
    "vgl_pane.object = }"
   ]
  },
  {
   "cell_type": "code",
   "execution_count": null,
   "id": "2949bee8-6878-4a01-b276-4b2687b8fb65",
   "metadata": {},
   "outputs": [],
   "source": [
    "lite = {\n",
    "    \"$schema\": \"https://vega.github.io/schema/vega-lite/v3.json\",\n",
    "    \"description\": \"An interactive histogram for visualizing a univariate distribution.\",\n",
    "    \"width\": 500,\n",
    "    \"height\": 100,\n",
    "    \"padding\": 5,\n",
    "    \"data\": [\n",
    "        {\n",
    "            \"name\": \"primary\",\n",
    "            \"values\": model.data.active_data[[\"_pred\", \"_label\"]].iloc[:10].to_dict(orient='record'),\n",
    "        },\n",
    "        {\n",
    "            \"name\": \"binned\",\n",
    "            \"source\": \"primary\",\n",
    "            \"transform\": [\n",
    "                {\n",
    "                    \"type\": \"bin\", \"field\": \"_pred\",\n",
    "                    \"extent\": [0, 1],\n",
    "                    \"anchor\": {\"signal\": \"binOffset\"},\n",
    "                    \"step\": {\"signal\": \"binStep\"},\n",
    "                    \"nice\": False\n",
    "                },\n",
    "                {\n",
    "                    \"type\": \"aggregate\",\n",
    "                    \"key\": \"bin0\", \"groupby\": [\"bin0\", \"bin1\"],\n",
    "                    \"fields\": [\"bin0\"], \"ops\": [\"count\"], \"as\": [\"count\"]\n",
    "                }\n",
    "            ]\n",
    "        }\n",
    "    ],\n",
    "    \"scales\": [\n",
    "        {\n",
    "          \"name\": \"xscale\",\n",
    "          \"type\": \"linear\",\n",
    "          \"range\": \"width\",\n",
    "          \"domain\": [-1, 1]\n",
    "        },\n",
    "        {\n",
    "          \"name\": \"yscale\",\n",
    "          \"type\": \"linear\",\n",
    "          \"range\": \"height\", \"round\": True,\n",
    "          \"domain\": {\"data\": \"binned\", \"field\": \"count\"},\n",
    "          \"zero\": True, \"nice\": True\n",
    "        }\n",
    "    ],\n",
    "    \"axes\": [\n",
    "        {\"orient\": \"bottom\", \"scale\": \"xscale\", \"zindex\": 1},\n",
    "        {\"orient\": \"left\", \"scale\": \"yscale\", \"tickCount\": 5, \"zindex\": 1}\n",
    "    ],\n",
    "\n",
    "    \"marks\": [\n",
    "        {\n",
    "            \"type\": \"rect\",\n",
    "            \"from\": {\"data\": \"binned\"},\n",
    "            \"encode\": {\n",
    "                \"update\": {\n",
    "                    \"x\": {\"scale\": \"xscale\", \"field\": \"bin0\"},\n",
    "                    \"x2\": {\"scale\": \"xscale\", \"field\": \"bin1\",\n",
    "                           \"offset\": {\"signal\": \"binStep > 0.02 ? -0.5 : 0\"}},\n",
    "                    \"y\": {\"scale\": \"yscale\", \"field\": \"count\"},\n",
    "                    \"y2\": {\"scale\": \"yscale\", \"value\": 0},\n",
    "                    \"fill\": {\"value\": \"steelblue\"}\n",
    "                },\n",
    "                \"hover\": { \"fill\": {\"value\": \"firebrick\"} }\n",
    "            }\n",
    "        },\n",
    "    ],\n",
    "}\n",
    "vgl_pane = pn.panel(lite, height=240)\n",
    "vgl_pane"
   ]
  },
  {
   "cell_type": "code",
   "execution_count": null,
   "id": "c524ccd1-4186-427e-91d8-9a1cd0d8c2e6",
   "metadata": {},
   "outputs": [],
   "source": [
    "vegalite = {\n",
    "  \"$schema\": \"https://vega.github.io/schema/vega-lite/v3.json\",\n",
    "  \"data\": {\"url\": \"https://raw.githubusercontent.com/vega/vega/master/docs/data/barley.json\"},\n",
    "  \"mark\": \"bar\",\n",
    "  \"encoding\": {\n",
    "    \"x\": {\"aggregate\": \"sum\", \"field\": \"yield\", \"type\": \"quantitative\"},\n",
    "    \"y\": {\"field\": \"variety\", \"type\": \"nominal\"},\n",
    "    \"color\": {\"field\": \"site\", \"type\": \"nominal\"}\n",
    "  }\n",
    "}\n",
    "vgl_pane = pn.panel(vegalite, height=240)\n",
    "vgl_pane"
   ]
  },
  {
   "cell_type": "code",
   "execution_count": null,
   "id": "9b939dc0-af4e-4fac-9fe6-e1508603ca6d",
   "metadata": {},
   "outputs": [],
   "source": []
  },
  {
   "cell_type": "markdown",
   "id": "73d51667-336d-46fa-8bf0-fe0dac05ec60",
   "metadata": {},
   "source": [
    "---"
   ]
  },
  {
   "cell_type": "code",
   "execution_count": null,
   "id": "f4546210-af95-4a6b-8dc5-01034daeaf09",
   "metadata": {},
   "outputs": [],
   "source": [
    "model.predict(test_df)"
   ]
  },
  {
   "cell_type": "code",
   "execution_count": null,
   "id": "cb0dc302-564e-4f3a-8d4b-c23b94bb9421",
   "metadata": {},
   "outputs": [],
   "source": [
    "model.feature_names()"
   ]
  },
  {
   "cell_type": "code",
   "execution_count": null,
   "id": "c0c8efe5-c2de-44e2-9231-9a94c2e72a44",
   "metadata": {},
   "outputs": [],
   "source": [
    "model.training_data[model.feature_names()]"
   ]
  },
  {
   "cell_type": "code",
   "execution_count": null,
   "id": "a9d6ac53-22d0-42e5-a284-f5caf82914cd",
   "metadata": {},
   "outputs": [],
   "source": [
    "indices = model.data.active_data[(model.data.active_data[\"_news\"] > 0) & (model.data.active_data.index.isin(model.data.sample_indices))].index\n",
    "for index in list(indices[0:10]):\n",
    "    model.data.apply_label(index, 1)\n",
    "    \n",
    "model.data.apply_label(model.data.sample_indices[0], 0)"
   ]
  },
  {
   "cell_type": "code",
   "execution_count": null,
   "id": "d7bd58f0-520c-4cfe-a5eb-ce9feecc2223",
   "metadata": {},
   "outputs": [],
   "source": [
    "model.view.anchorviz.selectedDataPointID"
   ]
  },
  {
   "cell_type": "code",
   "execution_count": null,
   "id": "953383d0-359e-47a2-97b4-ea8abca3868c",
   "metadata": {},
   "outputs": [],
   "source": [
    "model.view.anchorviz.data"
   ]
  },
  {
   "cell_type": "code",
   "execution_count": null,
   "id": "deaf31a1-b23f-48f5-b294-4238c3ece65d",
   "metadata": {},
   "outputs": [],
   "source": [
    "model.data.active_data"
   ]
  },
  {
   "cell_type": "code",
   "execution_count": null,
   "id": "8b9ce886-d474-438d-8435-6e0c34734f14",
   "metadata": {},
   "outputs": [],
   "source": [
    "model2 = Model(test_df, \"text\")\n",
    "model2.view"
   ]
  },
  {
   "cell_type": "code",
   "execution_count": null,
   "id": "59115d06-cda5-47c1-8456-b2ce08f6a098",
   "metadata": {},
   "outputs": [],
   "source": [
    "model.data.table.contents.labeled3"
   ]
  },
  {
   "cell_type": "code",
   "execution_count": null,
   "id": "a9590a36-f2ca-4cbe-a46d-8d749d8a04ed",
   "metadata": {},
   "outputs": [],
   "source": [
    "model.view.anchorviz.anchors"
   ]
  },
  {
   "cell_type": "code",
   "execution_count": null,
   "id": "2ec68e5d-1b39-4f8f-b9fe-f029079e1d92",
   "metadata": {},
   "outputs": [],
   "source": [
    "model.data.selected_indices"
   ]
  },
  {
   "cell_type": "code",
   "execution_count": null,
   "id": "8c99a663-8c13-46e5-9d43-b113b44e86da",
   "metadata": {},
   "outputs": [],
   "source": [
    "[thing for thing in model.view.anchorviz.data if thing[\"id\"] == 9582]"
   ]
  },
  {
   "cell_type": "code",
   "execution_count": null,
   "id": "4ba4a2af-251f-4ff6-b57e-2a6d8d412328",
   "metadata": {},
   "outputs": [],
   "source": [
    "model.data.active_data.iloc[9582].text"
   ]
  },
  {
   "cell_type": "code",
   "execution_count": null,
   "id": "bd5dc3da-5b3f-4043-a064-06aa7e9b3f28",
   "metadata": {},
   "outputs": [],
   "source": [
    "# is this normalization being done wrong?\n",
    "total = 0\n",
    "for thing in model.view.anchorviz.data:\n",
    "    total += thing[\"weights\"][\"DictionaryAnchor00157\"]\n",
    "total"
   ]
  },
  {
   "cell_type": "code",
   "execution_count": null,
   "id": "ed8d9e14-f82d-4406-9a39-8972a9d965f3",
   "metadata": {},
   "outputs": [],
   "source": [
    "model.data.active_data"
   ]
  },
  {
   "cell_type": "code",
   "execution_count": null,
   "id": "f51de4b0-cd82-4ca5-8424-9ac05a40a776",
   "metadata": {},
   "outputs": [],
   "source": [
    "# model.view.anchorviz.data"
   ]
  },
  {
   "cell_type": "code",
   "execution_count": null,
   "id": "e9f8dcb4-be9c-45e6-b5cf-e3c57c19f94f",
   "metadata": {},
   "outputs": [],
   "source": [
    "model.data.active_data"
   ]
  },
  {
   "cell_type": "code",
   "execution_count": null,
   "id": "ed7f6abe-2f27-4ad1-b1c4-16552a8808cf",
   "metadata": {},
   "outputs": [],
   "source": [
    "model.anchor_list.anchors_dataframe"
   ]
  },
  {
   "cell_type": "code",
   "execution_count": null,
   "id": "c9749320-ff40-4713-9dfb-cbd71ac52da2",
   "metadata": {},
   "outputs": [],
   "source": [
    "model.anchor_list.anchors"
   ]
  },
  {
   "cell_type": "code",
   "execution_count": null,
   "id": "cf741ae9-45d5-43f4-a88c-178b193d7538",
   "metadata": {},
   "outputs": [],
   "source": [
    "model.view.anchorviz"
   ]
  },
  {
   "cell_type": "code",
   "execution_count": null,
   "id": "141bae86-fa59-4060-973c-ac7fd161e944",
   "metadata": {},
   "outputs": [],
   "source": [
    "from ipyanchorviz import AnchorViz\n",
    "from ipywidgets import HBox, Output"
   ]
  },
  {
   "cell_type": "code",
   "execution_count": null,
   "id": "2b546960-6357-447f-84bb-745b56a1edd1",
   "metadata": {},
   "outputs": [],
   "source": [
    "av = AnchorViz()\n",
    "out = Output()\n",
    "def say_thing(content):\n",
    "    with out:\n",
    "        print(content)\n",
    "av.on_anchor_add(say_thing)\n",
    "HBox([av, out])"
   ]
  },
  {
   "cell_type": "code",
   "execution_count": null,
   "id": "c5623112-45b6-43b0-b383-92b318946101",
   "metadata": {},
   "outputs": [],
   "source": [
    "av._anchor_add_callbacks(\"test\")"
   ]
  },
  {
   "cell_type": "code",
   "execution_count": null,
   "id": "60e9c27b-cb8c-4f8d-aad7-49c1bc4f2ab8",
   "metadata": {},
   "outputs": [],
   "source": [
    "model.data.active_data"
   ]
  },
  {
   "cell_type": "code",
   "execution_count": null,
   "id": "7041cc3a-fac8-48fa-9d08-4c219dce1376",
   "metadata": {},
   "outputs": [],
   "source": [
    "model.data.sample_indices"
   ]
  },
  {
   "cell_type": "code",
   "execution_count": null,
   "id": "16a4a39b-4079-4df2-8082-90b665a43c47",
   "metadata": {},
   "outputs": [],
   "source": [
    "model.data.selected_indices"
   ]
  }
 ],
 "metadata": {
  "kernelspec": {
   "display_name": "Python 3 (ipykernel)",
   "language": "python",
   "name": "python3"
  },
  "language_info": {
   "codemirror_mode": {
    "name": "ipython",
    "version": 3
   },
   "file_extension": ".py",
   "mimetype": "text/x-python",
   "name": "python",
   "nbconvert_exporter": "python",
   "pygments_lexer": "ipython3",
   "version": "3.10.12"
  }
 },
 "nbformat": 4,
 "nbformat_minor": 5
}
