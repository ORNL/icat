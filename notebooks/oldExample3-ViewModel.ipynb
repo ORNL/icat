{
 "cells": [
  {
   "cell_type": "code",
   "execution_count": null,
   "id": "398ee87c-c433-4caa-9d61-4a1af78ef449",
   "metadata": {},
   "outputs": [],
   "source": [
    "%load_ext autoreload\n",
    "%autoreload 2"
   ]
  },
  {
   "cell_type": "code",
   "execution_count": null,
   "id": "1cd1859a-b34a-46ab-9f1b-777268ff4a12",
   "metadata": {},
   "outputs": [],
   "source": [
    "from icat.model import Model \n",
    "from icat.anchors import DictionaryAnchor, TFIDFAnchor\n",
    "import pandas as pd"
   ]
  },
  {
   "cell_type": "code",
   "execution_count": null,
   "id": "86d66be4",
   "metadata": {},
   "outputs": [],
   "source": [
    "from datasets import load_dataset\n",
    "\n",
    "# getting newsgroups data from huggingface\n",
    "train_data = pd.DataFrame(data=load_dataset(\"SetFit/20_newsgroups\", split=\"train\"))\n",
    "test_data = pd.DataFrame(data=load_dataset(\"SetFit/20_newsgroups\", split=\"test\"))"
   ]
  },
  {
   "cell_type": "code",
   "execution_count": null,
   "id": "53229316-06d7-41d7-bbbf-deb03b45f198",
   "metadata": {},
   "outputs": [],
   "source": [
    "# 2, 25, 61, 342, 11310, 320\n",
    "# 1, 3, 4, 11309\n",
    "#train_data[train_data.label_text == \"comp.windows.x\"].index[10:20]\n",
    "train_data[\"int_label\"] = -1\n",
    "train_data.loc[[2, 25, 61, 342, 320], \"int_label\"] = 1\n",
    "train_data.loc[[1, 3, 4, 11309, 11311], \"int_label\"] = 0"
   ]
  },
  {
   "cell_type": "code",
   "execution_count": null,
   "id": "325e90c8",
   "metadata": {},
   "outputs": [],
   "source": [
    "train_data"
   ]
  },
  {
   "cell_type": "code",
   "execution_count": null,
   "id": "4ef47c05-af30-455b-b100-26cb10a90f7f",
   "metadata": {},
   "outputs": [],
   "source": [
    "train_data[train_data.int_label != -1]"
   ]
  },
  {
   "cell_type": "code",
   "execution_count": null,
   "id": "ce6298ca",
   "metadata": {},
   "outputs": [],
   "source": [
    "# Model setup with a simple anchor\n",
    "model = Model(\"20_newsgroup\", exploration_data=train_data, label_col=\"int_label\")\n",
    "\n",
    "computer_keywords = [\n",
    "    \"Windows\",\n",
    "    \"UNIX\",\n",
    "    \"OS\",\n",
    "    \"GPU\",\n",
    "    \"Mac\",\n",
    "    \"Linux\"\n",
    "]\n",
    "cpu_anchor = DictionaryAnchor(name = \"computers\", keywords = computer_keywords, text_col=\"text\")\n",
    "model.anchors.append(cpu_anchor)"
   ]
  },
  {
   "cell_type": "code",
   "execution_count": null,
   "id": "f2b235c8",
   "metadata": {},
   "outputs": [],
   "source": [
    "model.fit()\n",
    "results_df = model.predict(test_data)"
   ]
  },
  {
   "cell_type": "code",
   "execution_count": null,
   "id": "2cd6dbe8-a6a2-428e-b13b-d8e606a8333c",
   "metadata": {},
   "outputs": [],
   "source": [
    "model.predict(train_data).pred.value_counts()"
   ]
  },
  {
   "cell_type": "code",
   "execution_count": null,
   "id": "34359e22-28b8-4c4d-9459-da2d9889df51",
   "metadata": {},
   "outputs": [],
   "source": [
    "results_df.pred.value_counts()"
   ]
  },
  {
   "cell_type": "code",
   "execution_count": null,
   "id": "5e393cbd",
   "metadata": {},
   "outputs": [],
   "source": [
    "results_df\n",
    "# TODO: the column results from computers look odd and pred seems to be between 8 and 18"
   ]
  },
  {
   "cell_type": "code",
   "execution_count": null,
   "id": "fe8cfd38-68c1-4207-a791-c5eeb589fc5a",
   "metadata": {},
   "outputs": [],
   "source": [
    "from icat.view import InteractiveView\n",
    "\n",
    "view = InteractiveView(model, \"text\")\n"
   ]
  },
  {
   "cell_type": "code",
   "execution_count": null,
   "id": "428ac922-0ddc-40e2-b0da-fb15fb60655f",
   "metadata": {},
   "outputs": [],
   "source": [
    "view.sample_indices = [1, 2, 3, 5, 25, 61, 342, 11311, 320]\n",
    "view.refit()\n",
    "#view.refresh_visible_table_entries()"
   ]
  },
  {
   "cell_type": "code",
   "execution_count": null,
   "id": "71568b7f-f680-401b-ae1b-9918a7f5e03c",
   "metadata": {},
   "outputs": [],
   "source": [
    "import panel as pn\n",
    "import ipywidgets as ipw\n",
    "pn.extension('ipywidgets', 'tabulator')"
   ]
  },
  {
   "cell_type": "code",
   "execution_count": null,
   "id": "432e02c0-ce1b-486e-a9d4-8e18d2023046",
   "metadata": {},
   "outputs": [],
   "source": [
    "view"
   ]
  },
  {
   "cell_type": "code",
   "execution_count": null,
   "id": "6205b229-9026-496f-ac44-f099377a13cd",
   "metadata": {},
   "outputs": [],
   "source": [
    "view.anchorviz.anchors"
   ]
  },
  {
   "cell_type": "code",
   "execution_count": null,
   "id": "11f4a999-cfae-4333-a948-17466e05142c",
   "metadata": {},
   "outputs": [],
   "source": [
    "view.model.anchors[0].keywords"
   ]
  },
  {
   "cell_type": "code",
   "execution_count": null,
   "id": "188d1ab0-6572-4a31-b680-22b7f24e48cf",
   "metadata": {},
   "outputs": [],
   "source": [
    "view.anchorviz.anchors"
   ]
  },
  {
   "cell_type": "code",
   "execution_count": null,
   "id": "10a8ac76-0ca8-4445-b247-542206d90700",
   "metadata": {},
   "outputs": [],
   "source": [
    "view.model.anchors[0].keywords"
   ]
  },
  {
   "cell_type": "code",
   "execution_count": null,
   "id": "355229c6-67dd-4c44-8c95-687505ea534d",
   "metadata": {},
   "outputs": [],
   "source": [
    "import ipyanchorviz as av\n"
   ]
  },
  {
   "cell_type": "code",
   "execution_count": null,
   "id": "49ee3e6e-8c58-4dd4-af3a-fdfaa0680d2f",
   "metadata": {},
   "outputs": [],
   "source": [
    "\n",
    "pn.extension('ipywidgets')"
   ]
  },
  {
   "cell_type": "code",
   "execution_count": null,
   "id": "41e59e60-098e-4039-884f-44f9382d47f2",
   "metadata": {},
   "outputs": [],
   "source": [
    "pn.Row(ipw.FloatSlider(description=\"test\"))"
   ]
  },
  {
   "cell_type": "code",
   "execution_count": null,
   "id": "2f33a240-e941-45b1-a8e6-e9fddc1bc1a4",
   "metadata": {},
   "outputs": [],
   "source": [
    "viz = av.AnchorViz()\n",
    "pn.Row(viz)"
   ]
  },
  {
   "cell_type": "code",
   "execution_count": null,
   "id": "60fbc812-b0ef-499f-9c0b-d86745332479",
   "metadata": {},
   "outputs": [],
   "source": []
  }
 ],
 "metadata": {
  "kernelspec": {
   "display_name": "Python 3 (ipykernel)",
   "language": "python",
   "name": "python3"
  },
  "language_info": {
   "codemirror_mode": {
    "name": "ipython",
    "version": 3
   },
   "file_extension": ".py",
   "mimetype": "text/x-python",
   "name": "python",
   "nbconvert_exporter": "python",
   "pygments_lexer": "ipython3",
   "version": "3.10.6"
  },
  "vscode": {
   "interpreter": {
    "hash": "cf8761a7925ac6624397875eabfa5f6695ba72d85fce9d161bc703f79f255e51"
   }
  }
 },
 "nbformat": 4,
 "nbformat_minor": 5
}
