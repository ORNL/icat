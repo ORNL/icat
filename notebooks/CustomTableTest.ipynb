{
 "cells": [
  {
   "cell_type": "code",
   "execution_count": null,
   "id": "4afa3db0-5e42-4808-b9de-62f68c00458e",
   "metadata": {},
   "outputs": [],
   "source": [
    "%load_ext autoreload\n",
    "%autoreload 2"
   ]
  },
  {
   "cell_type": "code",
   "execution_count": null,
   "id": "9eb5334a-79c6-4928-b73d-5b026495adc9",
   "metadata": {},
   "outputs": [],
   "source": [
    "import pandas as pd\n",
    "import panel as pn\n",
    "\n",
    "from icat.table import TableDisplay\n",
    "pn.extension()"
   ]
  },
  {
   "cell_type": "code",
   "execution_count": null,
   "id": "52ff6b2f-9c44-4a28-bbd0-80bb36e6ff51",
   "metadata": {},
   "outputs": [],
   "source": [
    "from sklearn.datasets import fetch_20newsgroups\n",
    "\n",
    "train = fetch_20newsgroups(subset=\"train\")\n",
    "test = fetch_20newsgroups(subset=\"test\")\n",
    "\n",
    "train_df = pd.DataFrame({\"text\": train[\"data\"]})\n",
    "test_df = pd.DataFrame({\"text\": test[\"data\"]})"
   ]
  },
  {
   "cell_type": "code",
   "execution_count": null,
   "id": "ab5fd023-7a66-41b6-8520-daef94de0eca",
   "metadata": {},
   "outputs": [],
   "source": [
    "t = TableDisplay()\n",
    "t"
   ]
  },
  {
   "cell_type": "code",
   "execution_count": null,
   "id": "c6c00776-616c-4c7b-91d8-655e81a4d580",
   "metadata": {},
   "outputs": [],
   "source": [
    "t.max_page = 9\n"
   ]
  },
  {
   "cell_type": "code",
   "execution_count": null,
   "id": "87592912-d7d2-4f91-9252-dfbc60a711e2",
   "metadata": {},
   "outputs": [],
   "source": [
    "t.max_page"
   ]
  },
  {
   "cell_type": "code",
   "execution_count": null,
   "id": "91662f78-d081-40bb-87d8-c430bb69eebc",
   "metadata": {},
   "outputs": [],
   "source": [
    "t.contents."
   ]
  },
  {
   "cell_type": "code",
   "execution_count": null,
   "id": "a1fbe816-d6b9-4ee3-8604-213fe53b1f52",
   "metadata": {},
   "outputs": [],
   "source": [
    "rows = []\n",
    "for i in range(6):\n",
    "    rows.append({\"index\": i, \"text\": f\"Hello there from row {i}!\", \"color\": \"blue\"})\n",
    "t.set_rows(rows)"
   ]
  },
  {
   "cell_type": "code",
   "execution_count": null,
   "id": "b312f577-03e8-41eb-8dbf-41aa145a4314",
   "metadata": {},
   "outputs": [],
   "source": [
    "import param\n",
    "with param.parameterized.batch_call_watchers(t.param.rows):\n",
    "    for i in range(0, 10):\n",
    "        t.rows[i].text_html.content = f\" NOT TODAY yes {i}\"\n"
   ]
  },
  {
   "cell_type": "code",
   "execution_count": null,
   "id": "98866938-35cc-4c2f-844a-513ae07f49cb",
   "metadata": {},
   "outputs": [],
   "source": [
    "import asyncio\n",
    "\n",
    "async def set_text(i):\n",
    "    t.rows[i].text_html.content = f\" NOT TODAY yes {i}\"\n",
    "\n",
    "tasks = []\n",
    "for i in range(0, 20):\n",
    "    print(\"yep\")\n",
    "    task = asyncio.create_task(set_text(i))\n",
    "    tasks.append(task)\n",
    "for task in tasks:\n",
    "    await task"
   ]
  },
  {
   "cell_type": "code",
   "execution_count": null,
   "id": "4cf21bf4-6944-4269-b150-a08260de33be",
   "metadata": {},
   "outputs": [],
   "source": [
    "for i in range(9, 20):\n",
    "    t.rows[i].visible = False\n",
    "    "
   ]
  },
  {
   "cell_type": "code",
   "execution_count": null,
   "id": "4d111fb3-9381-44bc-aa45-fc2209002624",
   "metadata": {},
   "outputs": [],
   "source": [
    "t.rows[0].index = 30"
   ]
  },
  {
   "cell_type": "code",
   "execution_count": null,
   "id": "2f9fe2ec-1079-4f17-8fa5-36a3a53cf49e",
   "metadata": {},
   "outputs": [],
   "source": [
    "t.rows[1].text = \"YES\""
   ]
  },
  {
   "cell_type": "code",
   "execution_count": null,
   "id": "36486fc6-a24f-49e5-9bcb-333487c42e5c",
   "metadata": {},
   "outputs": [],
   "source": [
    "t.rows[1].text_html.content = \"NO!\""
   ]
  },
  {
   "cell_type": "code",
   "execution_count": null,
   "id": "e8b9623f-0c5e-46b3-95eb-743c0d59b3f0",
   "metadata": {},
   "outputs": [],
   "source": [
    "t.rows[0].text_html"
   ]
  },
  {
   "cell_type": "code",
   "execution_count": null,
   "id": "3bce71cf-30da-4747-8dcc-8ea94d6452bd",
   "metadata": {},
   "outputs": [],
   "source": [
    "t.rows[0].content"
   ]
  },
  {
   "cell_type": "code",
   "execution_count": null,
   "id": "002f5f9a-0fb0-41b1-bb4e-451bcbc03cc8",
   "metadata": {},
   "outputs": [],
   "source": [
    "r = t.rows[0]\n",
    "r"
   ]
  },
  {
   "cell_type": "code",
   "execution_count": null,
   "id": "fd3c5cc6-d981-4883-834e-3dc3ed4a890b",
   "metadata": {},
   "outputs": [],
   "source": [
    "r.content = \"hello\""
   ]
  },
  {
   "cell_type": "code",
   "execution_count": null,
   "id": "43321125-b270-456f-9647-96ffaeecc32e",
   "metadata": {},
   "outputs": [],
   "source": [
    "from icat.table import ClickableTextCell"
   ]
  },
  {
   "cell_type": "code",
   "execution_count": null,
   "id": "e77be441-3098-487a-9433-e62b5cea377b",
   "metadata": {},
   "outputs": [],
   "source": [
    "c = ClickableTextCell()\n",
    "c.index = 0\n",
    "c.content = \"hello!\"\n",
    "c"
   ]
  },
  {
   "cell_type": "code",
   "execution_count": null,
   "id": "bc144427-a902-4b06-8fbb-6d4887a7d66d",
   "metadata": {},
   "outputs": [],
   "source": [
    "c.content = \"no!!!!\"\n",
    "c.index = 13"
   ]
  },
  {
   "cell_type": "code",
   "execution_count": null,
   "id": "36d9b367-9bae-4eaf-bdee-36b24bd86e0a",
   "metadata": {},
   "outputs": [],
   "source": [
    "c2 = ClickableTextCell()\n",
    "c2"
   ]
  },
  {
   "cell_type": "code",
   "execution_count": null,
   "id": "39ff3049-bcbd-4e1e-9fe3-e72ff6b73868",
   "metadata": {},
   "outputs": [],
   "source": [
    "c2.text = \"yes\"\n",
    "c2.index = 15"
   ]
  },
  {
   "cell_type": "code",
   "execution_count": null,
   "id": "7d54aa7a-f7d7-4b4a-ad47-bf224a8daaf8",
   "metadata": {},
   "outputs": [],
   "source": [
    "def print_hello(index):\n",
    "    print(f\"I was clicked on: {index}\")\n",
    "    \n",
    "c.on_click(print_hello)\n",
    "c2.on_click(print_hello)"
   ]
  },
  {
   "cell_type": "code",
   "execution_count": null,
   "id": "3e2729e0-2650-4eb6-93bb-a509282da1c4",
   "metadata": {},
   "outputs": [],
   "source": []
  },
  {
   "cell_type": "code",
   "execution_count": null,
   "id": "beefad8f-c91c-4c17-aa03-ef539db565c0",
   "metadata": {},
   "outputs": [],
   "source": []
  }
 ],
 "metadata": {
  "kernelspec": {
   "display_name": "Python 3 (ipykernel)",
   "language": "python",
   "name": "python3"
  },
  "language_info": {
   "codemirror_mode": {
    "name": "ipython",
    "version": 3
   },
   "file_extension": ".py",
   "mimetype": "text/x-python",
   "name": "python",
   "nbconvert_exporter": "python",
   "pygments_lexer": "ipython3",
   "version": "3.10.6"
  }
 },
 "nbformat": 4,
 "nbformat_minor": 5
}
