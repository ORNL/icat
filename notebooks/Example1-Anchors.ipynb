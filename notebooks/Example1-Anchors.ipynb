{
 "cells": [
  {
   "cell_type": "code",
   "execution_count": null,
   "id": "b47ad02c-9464-4428-b9ec-2bf4554284fa",
   "metadata": {},
   "outputs": [],
   "source": [
    "%load_ext autoreload\n",
    "%autoreload 2"
   ]
  },
  {
   "cell_type": "code",
   "execution_count": null,
   "id": "1050dd14-d395-453a-9c29-a5b3a070cfbb",
   "metadata": {},
   "outputs": [],
   "source": [
    "import panel as pn\n",
    "from icat.anchors import DictionaryAnchor\n",
    "from icat.anchorlist import AnchorList, AnchorListTemplate\n",
    "\n",
    "pn.extension()"
   ]
  },
  {
   "cell_type": "markdown",
   "id": "dec5b6b7-eeff-439f-93b0-4f7ac810714e",
   "metadata": {},
   "source": [
    " ## Anchors with the UI\n",
    "\n",
    "- First create a blank anchor list with the code below\n",
    "- Use the \"Add DictionaryAnchor\" button to add an Anchor \"TestAnchor\"\n",
    "- Change the keywords and weights for \"TestAnchor\" by clicking on it in the table"
   ]
  },
  {
   "cell_type": "code",
   "execution_count": null,
   "id": "473e74e9-93ba-4045-b94d-3e8ce553f965",
   "metadata": {},
   "outputs": [],
   "source": [
    "# TODO: The selected anchor closes every time a value is changed\n",
    "\n",
    "anchor_list = AnchorList(table_height=300)\n",
    "\n",
    "anchor_list"
   ]
  },
  {
   "cell_type": "code",
   "execution_count": null,
   "id": "d1e00ac7-c5d7-4af8-894c-f1d23328cf10",
   "metadata": {},
   "outputs": [],
   "source": [
    "anchor_list.anchors[0].reference_texts = [\"30\", \"This is a\", \"thinggggg\", \"noooo\", \"wat\", \"never\"]"
   ]
  },
  {
   "cell_type": "code",
   "execution_count": null,
   "id": "57dc99e3-d53e-4279-a413-9fa7617e000a",
   "metadata": {},
   "outputs": [],
   "source": [
    "anchor_list.anchors[0].reference_short"
   ]
  },
  {
   "cell_type": "markdown",
   "id": "14bd07d5-05fe-4c88-8453-bc7e7dc34332",
   "metadata": {},
   "source": [
    "## Add/Update/Delete Anchors Programmatically\n",
    "\n",
    "- See below to add/update/delete anchors programmatically\n",
    "- Note that the updates propogate to the table displayed above\n"
   ]
  },
  {
   "cell_type": "code",
   "execution_count": null,
   "id": "48ca8189-8a04-45ab-b093-a9bae6a0ec40",
   "metadata": {},
   "outputs": [],
   "source": [
    "# Adding an Anchor\n",
    "new_anchor = DictionaryAnchor(anchor_name=\"Programmatic Add\", keywords=[\"new\",\"anchor\"])\n",
    "anchor_list.add_anchor(new_anchor)"
   ]
  },
  {
   "cell_type": "code",
   "execution_count": null,
   "id": "c6df793b-74d3-42dd-8e8b-66ba1457515b",
   "metadata": {},
   "outputs": [],
   "source": [
    "# Programatically changing its values\n",
    "new_anchor.keywords = [\"something\", \"different\"]\n",
    "new_anchor.anchor_name = \"Updated\"\n",
    "new_anchor.in_view = False"
   ]
  },
  {
   "cell_type": "code",
   "execution_count": null,
   "id": "19ea22e1-6a97-4710-b080-70875fbef522",
   "metadata": {},
   "outputs": [],
   "source": [
    "# Deleting an anchor\n",
    "anchor_list.remove_anchor(new_anchor)"
   ]
  },
  {
   "cell_type": "markdown",
   "id": "e2ad2139-29ee-4a5c-a9c2-61ee3f1437b8",
   "metadata": {},
   "source": [
    "## Subscribable events\n",
    "\n",
    "The anchorlist exposes a few events you can attach callbacks to:\n",
    "- on_anchor_addition (passes the newly created anchor)\n",
    "- on_anchor_change (passes the anchor name, the property name, and the new value)\n",
    "- on_anchor_removal (passes the removed anchor)"
   ]
  },
  {
   "cell_type": "code",
   "execution_count": null,
   "id": "cb47365e-41d4-4d6f-ab4c-8d6032cff61e",
   "metadata": {},
   "outputs": [],
   "source": []
  }
 ],
 "metadata": {
  "kernelspec": {
   "display_name": "Python 3 (ipykernel)",
   "language": "python",
   "name": "python3"
  },
  "language_info": {
   "codemirror_mode": {
    "name": "ipython",
    "version": 3
   },
   "file_extension": ".py",
   "mimetype": "text/x-python",
   "name": "python",
   "nbconvert_exporter": "python",
   "pygments_lexer": "ipython3",
   "version": "3.10.6"
  }
 },
 "nbformat": 4,
 "nbformat_minor": 5
}
