{
 "cells": [
  {
   "cell_type": "markdown",
   "id": "7c11bc08-a667-43ba-9331-a9c34d8c20b0",
   "metadata": {},
   "source": [
    "# Simple Example\n",
    "\n",
    "This notebook shows the simplest way to get to the default ICAT interface and model."
   ]
  },
  {
   "cell_type": "code",
   "execution_count": null,
   "id": "6c5d7847-4f00-4d6c-9375-fc6648277ce0",
   "metadata": {},
   "outputs": [],
   "source": [
    "import numpy as np\n",
    "import pandas as pd\n",
    "from sklearn.metrics.pairwise import cosine_similarity\n",
    "\n",
    "import icat"
   ]
  },
  {
   "cell_type": "markdown",
   "id": "f3fa9719-c708-408f-84cf-421df9c8e46c",
   "metadata": {},
   "source": [
    "We load in a dataset to work with"
   ]
  },
  {
   "cell_type": "code",
   "execution_count": null,
   "id": "ee35c926-97f2-49c2-a80e-01ad42d907a8",
   "metadata": {
    "tags": []
   },
   "outputs": [],
   "source": [
    "from sklearn.datasets import fetch_20newsgroups\n",
    "\n",
    "dataset = fetch_20newsgroups(subset=\"train\")\n",
    "df = pd.DataFrame({\"text\": dataset[\"data\"], \"category\": [dataset[\"target_names\"][i] for i in dataset[\"target\"]]})\n",
    "#df = df.iloc[0:1999]\n",
    "df.head()"
   ]
  },
  {
   "cell_type": "markdown",
   "id": "2b1a3c0d-0fef-4d6d-8f94-cf5a1f2cfb41",
   "metadata": {},
   "source": [
    "ICAT has to be initialized before use, taking care of things like panel and pre-requisite UI setup"
   ]
  },
  {
   "cell_type": "code",
   "execution_count": null,
   "id": "b10d7254-e8ae-488c-bf65-38c18fe55cd5",
   "metadata": {
    "tags": []
   },
   "outputs": [],
   "source": [
    "icat.initialize(offline=True)"
   ]
  },
  {
   "cell_type": "markdown",
   "id": "66b5d51f-ad83-496e-9eeb-9edbcec98ca2",
   "metadata": {},
   "source": [
    "We create a model instance with the dataset, pointing it at the column containing the text to apply any created features to."
   ]
  },
  {
   "cell_type": "code",
   "execution_count": null,
   "id": "fd8eec49-a4e5-42b9-85f7-174e236e0968",
   "metadata": {
    "tags": []
   },
   "outputs": [],
   "source": [
    "model = icat.Model(df, text_col=\"text\")"
   ]
  },
  {
   "cell_type": "code",
   "execution_count": null,
   "id": "3c3880dc-554e-48f9-bd16-67b3487f19b7",
   "metadata": {
    "tags": []
   },
   "outputs": [],
   "source": [
    "model.view"
   ]
  },
  {
   "cell_type": "code",
   "execution_count": null,
   "id": "999baf4a-23d8-4fb7-a034-597f65bf3903",
   "metadata": {},
   "outputs": [],
   "source": []
  }
 ],
 "metadata": {
  "kernelspec": {
   "display_name": "Python 3 (ipykernel)",
   "language": "python",
   "name": "python3"
  },
  "language_info": {
   "codemirror_mode": {
    "name": "ipython",
    "version": 3
   },
   "file_extension": ".py",
   "mimetype": "text/x-python",
   "name": "python",
   "nbconvert_exporter": "python",
   "pygments_lexer": "ipython3",
   "version": "3.12.4"
  }
 },
 "nbformat": 4,
 "nbformat_minor": 5
}
