{
 "cells": [
  {
   "cell_type": "code",
   "execution_count": null,
   "id": "481ddc8b-90af-4388-accc-6fafcc24406e",
   "metadata": {
    "tags": []
   },
   "outputs": [],
   "source": [
    "%load_ext autoreload\n",
    "%autoreload 2"
   ]
  },
  {
   "cell_type": "code",
   "execution_count": null,
   "id": "7c3f463d-4008-482b-ab94-2251e324f428",
   "metadata": {
    "tags": []
   },
   "outputs": [],
   "source": [
    "import numpy as np\n",
    "import pandas as pd\n",
    "import panel as pn\n",
    "\n",
    "from transformers import AutoTokenizer, BertModel\n",
    "\n",
    "from icat.model import Model\n",
    "from icat.anchors import DictionaryAnchor\n",
    "pn.extension('vega')"
   ]
  },
  {
   "cell_type": "code",
   "execution_count": null,
   "id": "8679d4ac-2daf-4728-a92d-0a82d05cc56f",
   "metadata": {
    "tags": []
   },
   "outputs": [],
   "source": [
    "from sklearn.datasets import fetch_20newsgroups\n",
    "\n",
    "train = fetch_20newsgroups(subset=\"train\")\n",
    "test = fetch_20newsgroups(subset=\"test\")\n",
    "\n",
    "train_df = pd.DataFrame({\"text\": train[\"data\"]})\n",
    "test_df = pd.DataFrame({\"text\": test[\"data\"]})"
   ]
  },
  {
   "cell_type": "code",
   "execution_count": null,
   "id": "bdd9cd3b-22db-47f6-b73e-c59b072ea075",
   "metadata": {
    "tags": []
   },
   "outputs": [],
   "source": [
    "tokenizer = AutoTokenizer.from_pretrained(\"bert-base-uncased\")\n",
    "text_model = BertModel.from_pretrained(\"bert-base-uncased\").to('cuda')"
   ]
  },
  {
   "cell_type": "code",
   "execution_count": null,
   "id": "05448c54-143c-4ee9-81d1-3b35a22c8ced",
   "metadata": {
    "tags": []
   },
   "outputs": [],
   "source": [
    "text_model.encoder"
   ]
  },
  {
   "cell_type": "code",
   "execution_count": null,
   "id": "bed6a446-7541-49cd-b1f1-f0fb4f113fd6",
   "metadata": {
    "tags": []
   },
   "outputs": [],
   "source": [
    "batch_size = 16\n",
    "\n",
    "#def ossify_similarity_model(data: pd.DataFrame, anchorlist, target_text, text_col_name):\n",
    "def bert_similarity_model(data: pd.DataFrame, anchor):\n",
    "    anchorlist = anchor.container\n",
    "    target_text = anchor.reference_texts[0] # TODO\n",
    "    text_col_name = anchor.text_col\n",
    "    \n",
    "    # compute all of the embeddings for the full dataset as needed\n",
    "    if not hasattr(anchorlist, \"similarity_embeddings\"):\n",
    "        embedded_batches = []\n",
    "        \n",
    "        # run the tokenizer and model embedding on batches\n",
    "        for batch in range(data.shape[0] // batch_size + 1):\n",
    "            # compute range for this batch\n",
    "            batch_start = batch * batch_size\n",
    "            if batch == data.shape[0] // batch_size:\n",
    "                batch_end = data.shape[0]\n",
    "            else:\n",
    "                batch_end = batch_start + batch_size\n",
    "        \n",
    "            batch_text = data[text_col_name].tolist()[batch_start:batch_end]\n",
    "            \n",
    "            tokenized = tokenizer(batch_text, return_tensors='pt', truncation=True, padding=\"max_length\")[\"input_ids\"].to('cuda').detach()\n",
    "            sim_embeddings = text_model(tokenized).last_hidden_state.detach().cpu().numpy()\n",
    "            embedded_batches.append(sim_embeddings)\n",
    "            del tokenized\n",
    "            \n",
    "        # for batch in embedded_batches:\n",
    "        #     print(batch.shape)\n",
    "        # tokenized = tokenizer(data[text_col_name].tolist(), return_tensors='pt', padding=True)[\"input_ids\"].to('cuda')\n",
    "        # anchorlist.similarity_embeddings = model.model(tokenized).last_hidden_state.detach().cpu().numpy()\n",
    "        anchorlist.similarity_embeddings = np.concatenate(embedded_batches, axis=0)\n",
    "        anchorlist.similarity_embeddings = anchorlist.similarity_embeddings.mean(axis=1)\n",
    "        print(anchorlist.similarity_embeddings.shape)\n",
    "        \n",
    "    tokenized_target = tokenizer(target_text, return_tensors='pt')[\"input_ids\"].to('cuda')\n",
    "    embedded_target = text_model.encoder(tokenized_target).last_hidden_state.detach().cpu().numpy()\n",
    "    embedded_target = embedded_target.mean(axis=1)\n",
    "    print(embedded_target.shape)\n",
    "    \n",
    "    similarities = cosine_similarity(embedded_target, anchorlist.similarity_embeddings)\n",
    "    \n",
    "    # some quick code to make the results spread out a bit more\n",
    "    similarities *= 2\n",
    "    similarities -= 1\n",
    "    similarities[similarities < 0.5] = 0.0\n",
    "    \n",
    "    \n",
    "    return pd.Series(similarities[0], index=data.index)"
   ]
  },
  {
   "cell_type": "code",
   "execution_count": null,
   "id": "4bb62970-8c55-4d5a-8285-8325fafb4735",
   "metadata": {
    "tags": []
   },
   "outputs": [],
   "source": [
    "model = Model(train_df, \"text\", similarity_functions=[bert_similarity_model])"
   ]
  },
  {
   "cell_type": "code",
   "execution_count": null,
   "id": "e7ae8337-38f7-45fb-9607-42601995631a",
   "metadata": {
    "tags": []
   },
   "outputs": [],
   "source": [
    "model.view"
   ]
  },
  {
   "cell_type": "code",
   "execution_count": null,
   "id": "0cdef233-284f-4e52-b31a-d6af3cc3918f",
   "metadata": {
    "tags": []
   },
   "outputs": [],
   "source": [
    "model.anchor_list.anchors[0].container.model.similarity_functions[model.anchor_list.anchors[0].similarity_function](model.data.active_data, model.anchor_list.anchors[0])"
   ]
  },
  {
   "cell_type": "code",
   "execution_count": null,
   "id": "c5f09e5f-5a32-42a5-8ff8-9bd018eb30e0",
   "metadata": {
    "tags": []
   },
   "outputs": [],
   "source": [
    "tokenized = tokenizer(model.data.active_data[model.text_col][0], return_tensors='pt', truncation=True, padding='max_length')[\"input_ids\"].to('cuda')\n"
   ]
  },
  {
   "cell_type": "code",
   "execution_count": null,
   "id": "c3e6b2b9-1436-4942-bd43-3a2edea01dc5",
   "metadata": {
    "tags": []
   },
   "outputs": [],
   "source": [
    "text_model(tokenized).last_hidden_state.detach().cpu().numpy()"
   ]
  },
  {
   "cell_type": "code",
   "execution_count": null,
   "id": "a9b85fe4-054d-4a27-9db6-a2f33cbd1eaf",
   "metadata": {
    "tags": []
   },
   "outputs": [],
   "source": [
    "model.data.active_data[[\"_New Anchor\"]].value_counts()"
   ]
  },
  {
   "cell_type": "code",
   "execution_count": null,
   "id": "9149080f-375c-4012-9041-3a31006ad326",
   "metadata": {
    "tags": []
   },
   "outputs": [],
   "source": [
    "model.anchor_list.anchors[0].widget.children[0].children[2].children[0].v_model"
   ]
  },
  {
   "cell_type": "code",
   "execution_count": null,
   "id": "6bb12b27-96ef-4144-a973-5f5a5ec89ab2",
   "metadata": {
    "tags": []
   },
   "outputs": [],
   "source": [
    "model.anchor_list.anchors[1].new_id"
   ]
  },
  {
   "cell_type": "code",
   "execution_count": null,
   "id": "3a3b1368-bf23-46f4-928e-e81739577d95",
   "metadata": {
    "tags": []
   },
   "outputs": [],
   "source": [
    "model.anchor_list.anchors[0].new_id"
   ]
  },
  {
   "cell_type": "code",
   "execution_count": null,
   "id": "fa101203-dd9b-47a4-bb91-17c3f9b50e18",
   "metadata": {
    "tags": []
   },
   "outputs": [],
   "source": [
    "model.anchor_list.anchors[0].widget.children[0].children[2]."
   ]
  },
  {
   "cell_type": "code",
   "execution_count": null,
   "id": "68606c49-d2b7-4961-9e43-b07f2d4d14e6",
   "metadata": {
    "tags": []
   },
   "outputs": [],
   "source": [
    "model.anchor_list.anchors[0].sim_function_options.items"
   ]
  },
  {
   "cell_type": "code",
   "execution_count": null,
   "id": "f60fcfda-7c6a-4ca8-9084-7b773b619181",
   "metadata": {
    "tags": []
   },
   "outputs": [],
   "source": [
    "model.anchor_list.anchors[0]._populate_items()"
   ]
  },
  {
   "cell_type": "code",
   "execution_count": null,
   "id": "a0613c00-9728-4393-80ed-c95abc05aa11",
   "metadata": {},
   "outputs": [],
   "source": []
  }
 ],
 "metadata": {
  "kernelspec": {
   "display_name": "Python 3 (ipykernel)",
   "language": "python",
   "name": "python3"
  },
  "language_info": {
   "codemirror_mode": {
    "name": "ipython",
    "version": 3
   },
   "file_extension": ".py",
   "mimetype": "text/x-python",
   "name": "python",
   "nbconvert_exporter": "python",
   "pygments_lexer": "ipython3",
   "version": "3.10.12"
  }
 },
 "nbformat": 4,
 "nbformat_minor": 5
}
