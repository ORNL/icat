{
 "cells": [
  {
   "cell_type": "markdown",
   "id": "6baf6f47-c1ed-4c3b-9677-a5e14a7279cb",
   "metadata": {},
   "source": [
    "# Anchors Notebook\n",
    "\n",
    "This notebook walks through how anchors work in ICAT ..."
   ]
  },
  {
   "cell_type": "markdown",
   "id": "e687edae-bb7e-4578-886a-492dffed7206",
   "metadata": {},
   "source": [
    "Anchors represent the features that the underlying model in ICAT uses as a basis for training and prediction. An anchor essentially defines some function that when provided a piece of "
   ]
  },
  {
   "cell_type": "markdown",
   "id": "5b901114-ef93-4196-ade9-37ea36d44941",
   "metadata": {},
   "source": [
    "## Dictionary anchors"
   ]
  },
  {
   "cell_type": "markdown",
   "id": "abc66a21-7339-4813-875b-1a72b1245afe",
   "metadata": {},
   "source": [
    "The most basic anchor that comes pre-implemented in ICAT is a dictionary anchor, which essentially just represents an exact keyword search, or a Bag of Words (BoW) feature. You provide one or more comma separated keywords to search for, and the more times any of those words appear in a particular piece of text, the stronger the output value for that text."
   ]
  },
  {
   "cell_type": "markdown",
   "id": "3adb92fc-0f46-48d2-b37b-c020a5a40580",
   "metadata": {},
   "source": [
    "To demonstrate the anchors, we'll first load in the 20 newsgroups dataset and just grab the top few rows to look at them\n",
    "\n",
    "For simple testing purposes we define a tiny asdf-inspired dataframe of text samples"
   ]
  },
  {
   "cell_type": "code",
   "execution_count": null,
   "id": "6f3fc281-1d27-4903-86f9-b65ae2580a01",
   "metadata": {
    "tags": []
   },
   "outputs": [],
   "source": [
    "import pandas as pd\n",
    "\n",
    "rows = [\n",
    "    {\"text\": \"They said I could never teach a llama to drive!\"},\n",
    "    {\"text\": \"I like trains\"},\n",
    "    {\"text\": \"No llama, no!\"},\n",
    "    {\"text\": \"You are a chair, darling.\"},\n",
    "    {\"text\": \"Beep. Beep. I'm a sheep. I said beep beep I'm a sheep.\"},\n",
    "    {\"text\": \"Hey kid, you can't skate here!\"},\n",
    "    {\"text\": \"Ow, hey, muffin man do you ever run out of muffins?\"},\n",
    "    {\"text\": \"I'm going to punch your face. IN THE FACE.\"},\n",
    "    {\"text\": \"Oh boy a pie, what flavor?\"},\n",
    "    {\"text\": \"PIE FLAVOR.\"},\n",
    "    {\"text\": \"Joey did you eat my sandwich?\"},\n",
    "    {\"text\": \"I am your sandwich.\"},\n",
    "]\n",
    "df = pd.DataFrame(rows)\n",
    "df"
   ]
  },
  {
   "cell_type": "code",
   "execution_count": null,
   "id": "4d167df6-118c-49a6-99a6-46b5717fda03",
   "metadata": {
    "tags": []
   },
   "outputs": [],
   "source": [
    "from icat import DictionaryAnchor\n",
    "\n",
    "sandwich_anchor = DictionaryAnchor(text_col=\"text\")"
   ]
  },
  {
   "cell_type": "code",
   "execution_count": null,
   "id": "ba0002f1-ecf2-4e81-bab2-35d90a49e2b2",
   "metadata": {
    "tags": []
   },
   "outputs": [],
   "source": [
    "sandwich_anchor.widget"
   ]
  },
  {
   "cell_type": "code",
   "execution_count": null,
   "id": "8b085b86-469f-4ab1-8a06-e4aa000b81e9",
   "metadata": {
    "tags": []
   },
   "outputs": [],
   "source": [
    "sandwich_anchor.featurize(df)"
   ]
  },
  {
   "cell_type": "code",
   "execution_count": null,
   "id": "f4e649ad-d6b2-4087-a3a6-881ff64148f3",
   "metadata": {
    "tags": []
   },
   "outputs": [],
   "source": [
    "sandwich_anchor.keywords = [\"sandwich\"]"
   ]
  },
  {
   "cell_type": "code",
   "execution_count": null,
   "id": "5e776a66-e89a-4fd7-a83c-61d27697a787",
   "metadata": {
    "tags": []
   },
   "outputs": [],
   "source": [
    "sandwich_anchor.featurize(df)"
   ]
  },
  {
   "cell_type": "code",
   "execution_count": null,
   "id": "fbdeb959-a0f1-416b-ac86-4492638cea1f",
   "metadata": {
    "tags": []
   },
   "outputs": [],
   "source": [
    "sandwich_anchor.weight = 3.0"
   ]
  },
  {
   "cell_type": "code",
   "execution_count": null,
   "id": "3498d895-5a9d-4b88-bb35-772e12b2c12a",
   "metadata": {
    "tags": []
   },
   "outputs": [],
   "source": [
    "sandwich_anchor.featurize(df)"
   ]
  },
  {
   "cell_type": "markdown",
   "id": "d2a1d9c7-e794-4b31-9091-9f6f5f37df05",
   "metadata": {},
   "source": [
    "## Similarity anchors"
   ]
  },
  {
   "cell_type": "markdown",
   "id": "f4867370-0c64-4c9e-b466-98b6f8afb5b0",
   "metadata": {},
   "source": [
    "A similarity anchor returns an output strength based on some algorithm's similarity score output between a given piece of text and some target text, e.g. the cosine similarity between TF-IDF vectors. While a TF-IDF based vector comes implemented directly into ICAT, you can provide a list of one or more custom similarity function definitions to the model constructor, which will show up as options in the similarity anchor UI. This allows for providing arbitrary algorithms such as using a transformer and calculating distances between transformer embeddings. See the other notebook [...] for an example of how to do this"
   ]
  },
  {
   "cell_type": "markdown",
   "id": "c4784fac-d170-4c46-bc56-c535a8575dd1",
   "metadata": {},
   "source": [
    "## Custom anchors"
   ]
  },
  {
   "cell_type": "code",
   "execution_count": null,
   "id": "87a83668-9fb7-4c5a-927e-f2f30622a05b",
   "metadata": {},
   "outputs": [],
   "source": []
  }
 ],
 "metadata": {
  "kernelspec": {
   "display_name": "Python 3 (ipykernel)",
   "language": "python",
   "name": "python3"
  },
  "language_info": {
   "codemirror_mode": {
    "name": "ipython",
    "version": 3
   },
   "file_extension": ".py",
   "mimetype": "text/x-python",
   "name": "python",
   "nbconvert_exporter": "python",
   "pygments_lexer": "ipython3",
   "version": "3.10.12"
  },
  "toc-autonumbering": false,
  "toc-showmarkdowntxt": false
 },
 "nbformat": 4,
 "nbformat_minor": 5
}
