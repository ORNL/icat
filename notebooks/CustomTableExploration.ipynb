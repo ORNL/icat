{
 "cells": [
  {
   "cell_type": "code",
   "execution_count": null,
   "id": "5fbabd04-78fa-449f-aac4-3a04d98a189f",
   "metadata": {},
   "outputs": [],
   "source": [
    "%load_ext autoreload\n",
    "%autoreload 2"
   ]
  },
  {
   "cell_type": "code",
   "execution_count": null,
   "id": "89eed3ed-9120-46e6-9ce5-1a24099dfd7a",
   "metadata": {},
   "outputs": [],
   "source": [
    "import pandas as pd\n",
    "import panel as pn\n",
    "\n",
    "from icat.data import DataManager\n",
    "pn.extension()"
   ]
  },
  {
   "cell_type": "code",
   "execution_count": null,
   "id": "4d17d959-ab39-4101-8f66-6bd8f623af7a",
   "metadata": {},
   "outputs": [],
   "source": [
    "from sklearn.datasets import fetch_20newsgroups\n",
    "\n",
    "train = fetch_20newsgroups(subset=\"train\")\n",
    "test = fetch_20newsgroups(subset=\"test\")\n",
    "\n",
    "train_df = pd.DataFrame({\"text\": train[\"data\"]})\n",
    "test_df = pd.DataFrame({\"text\": test[\"data\"]})\n"
   ]
  },
  {
   "cell_type": "code",
   "execution_count": null,
   "id": "8bce0174-5879-4bea-aceb-581fe38b451d",
   "metadata": {},
   "outputs": [],
   "source": [
    "from panel.reactive import ReactiveHTML\n",
    "import param"
   ]
  },
  {
   "cell_type": "code",
   "execution_count": null,
   "id": "6804ea30-82c1-482d-b7c9-30aca9f78d99",
   "metadata": {},
   "outputs": [],
   "source": [
    "class test(ReactiveHTML):\n",
    "    \n",
    "    _template = \"<button id='btn1' onclick='${_test_click}'>Button 1</button><button id='btn2' onclick='${_test_click}'>Button 2</button>\"\n",
    "    \n",
    "    def _test_click(self, event):\n",
    "        print(event.node)"
   ]
  },
  {
   "cell_type": "code",
   "execution_count": null,
   "id": "6457a37d-17a0-4844-80c3-91f55f3b0288",
   "metadata": {},
   "outputs": [],
   "source": [
    "test()"
   ]
  },
  {
   "cell_type": "code",
   "execution_count": null,
   "id": "c0a75227-f45f-43fd-a7f6-49dc2b939105",
   "metadata": {},
   "outputs": [],
   "source": [
    "class SuperDuperCustomTable(ReactiveHTML):\n",
    "    text0 = param.String()\n",
    "    text1 = param.String()\n",
    "    text2 = param.String()\n",
    "    text3 = param.String()\n",
    "    text4 = param.String()\n",
    "    text5 = param.String()\n",
    "    text6 = param.String()\n",
    "    text7 = param.String()\n",
    "    text8 = param.String()\n",
    "    text9 = param.String()\n",
    "\n",
    "    index0 = param.Integer()\n",
    "    index1 = param.Integer()\n",
    "    index2 = param.Integer()\n",
    "    index3 = param.Integer()\n",
    "    index4 = param.Integer()\n",
    "    index5 = param.Integer()\n",
    "    index6 = param.Integer()\n",
    "    index7 = param.Integer()\n",
    "    index8 = param.Integer()\n",
    "    index9 = param.Integer()\n",
    "    \n",
    "    display0 = param.String(\"table-row\")\n",
    "    \n",
    "    color0 = param.String(\"white\")\n",
    "    \n",
    "    _template = \"\"\n",
    "    \n",
    "    def __init__(self, **params):\n",
    "        super().__init__(**params)\n",
    "        self.last_event = None\n",
    "        \n",
    "        # IMPORTANT NOTE: This doesn't work!! The param stuff does, but the onclick event handlers _do not_\n",
    "        # self._template = \"<table>\"\n",
    "        # for i in range(10):\n",
    "        #     self._template += f\"<tr id='row{i}' style='display: ${{display{i}}}; color: ${{color{i}}}'>\"\n",
    "        #     self._template += f\"<td>${{index{i}}}</td>\"\n",
    "        #     self._template += f\"<td>${{text{i}}}</td>\"\n",
    "        #     self._template += f\"<td><button id='btntable_u_{i}' onclick='${{_uninteresting_click}}'>U</button></td>\"\n",
    "        #     self._template += f\"<td><button id='btntable_i_{i}' onclick='${{_interesting_click}}'>I</button></td>\"\n",
    "        #     self._template += \"</tr>\"\n",
    "        # self._template += \"</table>\"\n",
    "    \n",
    "    def _interesting_click(self, event):\n",
    "        pass\n",
    "    \n",
    "    def _uninteresting_click(self, event):\n",
    "        print(\"ARGGGGH\")\n",
    "        print(event.node)\n",
    "        self.last_event = event\n",
    "        element_id = event.node[-1]\n",
    "        \n",
    "    def _row_click(self, event):\n",
    "        pass\n",
    "    \n",
    "    \n",
    "    _template = \"\"\"\n",
    "    <table id='table'>\n",
    "        <tr id='row0' style='display: ${display0}; color: ${color0}'>\n",
    "            <td>${index0}</td>\n",
    "            <td>${text0}</td>\n",
    "            <td><button id='btntable_u_0' onclick=\"${_uninteresting_click}\">U</button></td>\n",
    "            <td><button id='btntable_i_0' onclick=\"${_interesting_click}\">I</button></td>\n",
    "        </tr>\n",
    "        <tr>\n",
    "            <td>${index1}</td><td>${text1}</td>\n",
    "            <td><button id='btntable_u_1' onclick=\"${_uninteresting_click}\">U</button></td>\n",
    "            <td><button id='btntable_i_1' onclick=\"${_interesting_click}\">I</button></td>\n",
    "        </tr>\n",
    "        <tr>\n",
    "            <td>${index2}</td><td>${text2}</td>\n",
    "            <td><button id='btntable_u_2' onclick=\"${_uninteresting_click}\">U</button></td>\n",
    "            <td><button id='btntable_i_2' onclick=\"${_interesting_click}\">I</button></td>\n",
    "        </tr>\n",
    "        <tr>\n",
    "            <td>${index3}</td><td>${text3}</td>\n",
    "            <td><button id='btntable_u_3' onclick=\"${_uninteresting_click}\">U</button></td>\n",
    "            <td><button id='btntable_i_3' onclick=\"${_interesting_click}\">I</button></td>\n",
    "        </tr>\n",
    "        <tr>\n",
    "            <td>${index4}</td><td>${text4}</td>\n",
    "            <td><button id='btntable_u_4' onclick=\"${_uninteresting_click}\">U</button></td>\n",
    "            <td><button id='btntable_i_4' onclick=\"${_interesting_click}\">I</button></td>\n",
    "        </tr>\n",
    "        <tr>\n",
    "            <td>${index5}</td><td>${text5}</td>\n",
    "            <td><button id='btntable_u_5' onclick=\"${_uninteresting_click}\">U</button></td>\n",
    "            <td><button id='btntable_i_5' onclick=\"${_interesting_click}\">I</button></td>\n",
    "        </tr>\n",
    "        <tr>\n",
    "            <td>${index6}</td><td>${text6}</td>\n",
    "            <td><button id='btntable_u_6' onclick=\"${_uninteresting_click}\">U</button></td>\n",
    "            <td><button id='btntable_i_6' onclick=\"${_interesting_click}\">I</button></td>\n",
    "        </tr>\n",
    "        <tr>\n",
    "            <td>${index7}</td><td>${text7}</td>\n",
    "            <td><button id='btntable_u_7' onclick=\"${_uninteresting_click}\">U</button></td>\n",
    "            <td><button id='btntable_i_7' onclick=\"${_interesting_click}\">I</button></td>\n",
    "        </tr>\n",
    "        <tr>\n",
    "            <td>${index8}</td><td>${text8}</td>\n",
    "            <td><button id='btntable_u_8' onclick=\"${_uninteresting_click}\">U</button></td>\n",
    "            <td><button id='btntable_i_8' onclick=\"${_interesting_click}\">I</button></td>\n",
    "        </tr>\n",
    "        <tr>\n",
    "            <td>${index9}</td><td>${text9}</td>\n",
    "            <td><button id='btntable_u_9' onclick=\"${_uninteresting_click}\">U</button></td>\n",
    "            <td><button id='btntable_i_9' onclick=\"${_interesting_click}\">I</button></td>\n",
    "        </tr>\n",
    "    </table>\n",
    "    \"\"\"\n",
    "    "
   ]
  },
  {
   "cell_type": "code",
   "execution_count": null,
   "id": "89e6e68e-dcdb-42de-bfec-509ec48e3eaf",
   "metadata": {},
   "outputs": [],
   "source": [
    "# table = SuperDuperCustomTable(text0=\"HI!\", text1=\"Questionmark?\", text2=\"Please work\")\n",
    "table = SuperDuperCustomTable(\n",
    "    index0=0, text0=\"hello\",\n",
    "    index1=1, text1=\"hello world\",\n",
    "    index2=2, text2=\"no\",\n",
    "    index3=3, text3=\"arrrgh\",\n",
    ")\n",
    "table"
   ]
  },
  {
   "cell_type": "code",
   "execution_count": null,
   "id": "b42118cb-70c3-4141-80b0-168746759379",
   "metadata": {},
   "outputs": [],
   "source": [
    "table.last_event."
   ]
  },
  {
   "cell_type": "code",
   "execution_count": null,
   "id": "258bb2d4-2f13-4f81-93e7-10dc4147807a",
   "metadata": {},
   "outputs": [],
   "source": [
    "table.display0 = \"none\""
   ]
  },
  {
   "cell_type": "code",
   "execution_count": null,
   "id": "33c9025f-bef7-4649-a7be-a20284e8cc42",
   "metadata": {},
   "outputs": [],
   "source": [
    "table.color0 = \"orange\""
   ]
  },
  {
   "cell_type": "code",
   "execution_count": null,
   "id": "2156966a-514f-489f-9325-e35825d732be",
   "metadata": {},
   "outputs": [],
   "source": [
    "table.text0 = \"hmmmmmm\"\n",
    "table.text1 = \"HMMMMMMMM\"\n",
    "table.text2 = \"Uh oh\"\n",
    "table.text3 = \"this is the song that never ends\"\n",
    "table.text4 = \"Yes it goes on and on my friends\"\n",
    "table.text5 = \"Some people, started singing it not knowing what it was.\"\n",
    "table.text6 = \"And they'll continue singing it forever just because\""
   ]
  },
  {
   "cell_type": "code",
   "execution_count": null,
   "id": "defdcd48-80ce-4146-9112-e13b4b2572c1",
   "metadata": {},
   "outputs": [],
   "source": [
    "table.text0 = \"NO\""
   ]
  },
  {
   "cell_type": "code",
   "execution_count": null,
   "id": "b8522244-3c04-48f6-bb22-1996145a7dd7",
   "metadata": {},
   "outputs": [],
   "source": [
    "table = SuperDuperCustomTable(texts=[\"Hello\", \"World!\", \"Nathan\"])\n",
    "table"
   ]
  },
  {
   "cell_type": "code",
   "execution_count": null,
   "id": "26e469e8-89bf-4b16-969d-274e5217f34f",
   "metadata": {},
   "outputs": [],
   "source": [
    "table.texts = [\"NO\", \"NO\", \"YES\"]"
   ]
  },
  {
   "cell_type": "code",
   "execution_count": null,
   "id": "75f7e8ff-b924-4bb2-aebd-798b71a4cb09",
   "metadata": {},
   "outputs": [],
   "source": [
    "class CustomRow(pn.viewable.Viewer):\n",
    "    index = param.Integer(0)\n",
    "    text = param.String(\"\")\n",
    "    label = param.Integer(-1)\n",
    "    prediction = param.Integer(-1)\n",
    "    \n",
    "    def __init__(self, **params):\n",
    "        super().__init__(**params)\n",
    "        \n",
    "        self.uninteresting_btn = pn.widgets.Button(name=\"u\", width=20)\n",
    "        self.interesting_btn = pn.widgets.Button(name=\"i\", width=20)\n",
    "        \n",
    "        self.uninteresting_btn.on_click(lambda e: self._trigger_label_change(0))\n",
    "        self.interesting_btn.on_click(lambda e: self._trigger_label_change(1))\n",
    "        \n",
    "        self.index_html = pn.pane.HTML(f\"<p>{self.index}</p>\", width=10)\n",
    "        self.text_html = pn.pane.HTML(f\"<p>{self.text}</p>\", width=400)\n",
    "        \n",
    "        self._label_callbacks = []\n",
    "        \n",
    "        self.layout = pn.Row(self.index_html, self.text_html, pn.Row(self.uninteresting_btn, self.interesting_btn))\n",
    "        \n",
    "    @param.depends(\"text\", watch=True)\n",
    "    def update_text(self):\n",
    "        self.text_html.object = f\"<p>{self.text}</p>\"\n",
    "        \n",
    "    @param.depends(\"index\", watch=True)\n",
    "    def update_index(self):\n",
    "        self.index_html.object = f\"<p>{self.index}</p>\"\n",
    "        \n",
    "    def _trigger_label_change(self, new_label):\n",
    "        for callback in self._label_callbacks:\n",
    "            callback(self.index, new_label)\n",
    "        \n",
    "    def on_label_change(self, callback):\n",
    "        self._label_callbacks.append(callback)\n",
    "    \n",
    "    def __panel__(self):\n",
    "        return self.layout"
   ]
  },
  {
   "cell_type": "code",
   "execution_count": null,
   "id": "bc4dbeb4-13ff-417f-af23-3264fb44ce53",
   "metadata": {},
   "outputs": [],
   "source": [
    "r1 = CustomRow(text=\"hi\")\n",
    "r1"
   ]
  },
  {
   "cell_type": "code",
   "execution_count": null,
   "id": "a44cc838-898e-4b8b-bef0-e8d2779ab051",
   "metadata": {},
   "outputs": [],
   "source": [
    "r1.text = \"no\""
   ]
  },
  {
   "cell_type": "code",
   "execution_count": null,
   "id": "1993a765-4c6d-40de-a270-9e534278950d",
   "metadata": {},
   "outputs": [],
   "source": [
    "class CustomTable(pn.viewable.Viewer):\n",
    "    rows = param.List([])\n",
    "    current_page = param.Integer(1)\n",
    "    displayed_page_list = param.List([1])\n",
    "    max_page = param.Integer(1)\n",
    "    \n",
    "    def __init__(self, **params):\n",
    "        super().__init__(**params)\n",
    "        \n",
    "        for i in range(20):\n",
    "            row = CustomRow(index=i, text=f\"Yo, this is row number {i}\")\n",
    "            row.on_label_change(self._trigger_label_change)\n",
    "            self.rows.append(row)\n",
    "            \n",
    "        self.page_left_btn = pn.widgets.Button(name=\"<\", width=15)\n",
    "        self.page_left_btn.on_click(lambda e: self._trigger_page_request(self.current_page - 1))\n",
    "        self.page_right_btn = pn.widgets.Button(name=\">\", width=15)\n",
    "        self.page_right_btn.on_click(lambda e: self._trigger_page_request(self.current_page + 1))\n",
    "        self.pagination_tools = pn.Row()\n",
    "        \n",
    "        self.update_pagination_tools()\n",
    "        self.layout = pn.Column(pn.Column(*self.rows, height=500, scroll=True), self.pagination_tools, height=600, scroll=False)\n",
    "        \n",
    "        self._label_callbacks = []\n",
    "        self._page_request_callbacks = []\n",
    "        \n",
    "    @param.depends(\"current_page\", \"displayed_page_list\", \"max_page\", watch=True)\n",
    "    def update_pagination_tools(self):\n",
    "        btns = []\n",
    "        for page_num in self.displayed_page_list:\n",
    "            btn = pn.widgets.Button(name=str(page_num), width=15)\n",
    "            print(page_num)\n",
    "            # NOTE: I don't know why using page_num in the lambda doesn't work, but it will always use the last value of page_num\n",
    "            btn.on_click(lambda e: self._trigger_page_request(int(e.obj.name))) \n",
    "            btn.on_click(lambda e: print(e))\n",
    "            if page_num == self.current_page:\n",
    "                btn.disabled = True\n",
    "                btn.button_type = \"danger\"\n",
    "            btns.append(btn)\n",
    "        # left and right page button\n",
    "        self.page_left_btn.disabled = (self.current_page == 1)\n",
    "        self.page_right_btn.disabled = (self.current_page == self.max_page)\n",
    "            \n",
    "        self.pagination_tools.objects = [\n",
    "            self.page_left_btn,\n",
    "            *btns,\n",
    "            self.page_right_btn\n",
    "        ]\n",
    "        \n",
    "    def _trigger_label_change(self, index: int, new_label: int):\n",
    "        for callback in self._label_callbacks:\n",
    "            callback(index, new_label)\n",
    "        \n",
    "    def _trigger_page_request(self, requested_page: int):\n",
    "        self.current_page = requested_page\n",
    "        for callback in self._page_request_callbacks:\n",
    "            callback(requested_page)\n",
    "        \n",
    "    def on_label_change(self, callback):\n",
    "        self._label_callbacks.append(callback)\n",
    "        \n",
    "    def on_page_request(self, callback):\n",
    "        self._page_request_callbacks.append(callback)\n",
    "        \n",
    "    def __panel__(self):\n",
    "        return self.layout\n",
    "        \n",
    "#     _template = \"\"\"\n",
    "#     <div id='something'>\n",
    "#         {% for obj in rows %}\n",
    "#         <div>${row}</div>\n",
    "#         {% endfor %}\n",
    "#     </div>\n",
    "#     \"\"\"\n",
    "        "
   ]
  },
  {
   "cell_type": "code",
   "execution_count": null,
   "id": "9aa576f6-3ae1-4b49-a90e-65374c8b11d2",
   "metadata": {},
   "outputs": [],
   "source": [
    "def alert_label_change(index, new_label):\n",
    "    print(f\"No way dude, {index} is {new_label}\")"
   ]
  },
  {
   "cell_type": "code",
   "execution_count": null,
   "id": "f0d1185a-bebc-4df5-8571-9808704ea3ff",
   "metadata": {},
   "outputs": [],
   "source": [
    "t = CustomTable(max_page=3, displayed_page_list=[1,2,3])\n",
    "t.on_label_change(alert_label_change)\n",
    "t"
   ]
  },
  {
   "cell_type": "code",
   "execution_count": null,
   "id": "d70ef5ec-b1ae-420e-9a07-a5d56580c076",
   "metadata": {},
   "outputs": [],
   "source": [
    "t.rows[2].text = \"So this row is going to have super long text because it's always important to stress test your components, ensuring that they have the capacity and capability to handle any sort of abnormal situation that you might throw at them. This is crucial to increasing the reliability of your work, something left ever farther and farther behind in the dust in common software engineering practices.\""
   ]
  },
  {
   "cell_type": "code",
   "execution_count": null,
   "id": "5eb69a1e-750c-48f0-ae72-3ac3912ea5f6",
   "metadata": {},
   "outputs": [],
   "source": []
  }
 ],
 "metadata": {
  "kernelspec": {
   "display_name": "Python 3 (ipykernel)",
   "language": "python",
   "name": "python3"
  },
  "language_info": {
   "codemirror_mode": {
    "name": "ipython",
    "version": 3
   },
   "file_extension": ".py",
   "mimetype": "text/x-python",
   "name": "python",
   "nbconvert_exporter": "python",
   "pygments_lexer": "ipython3",
   "version": "3.10.6"
  }
 },
 "nbformat": 4,
 "nbformat_minor": 5
}
